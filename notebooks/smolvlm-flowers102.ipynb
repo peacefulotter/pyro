{
 "cells": [
  {
   "cell_type": "code",
   "execution_count": 1,
   "metadata": {},
   "outputs": [
    {
     "data": {
      "text/plain": [
       "'cuda'"
      ]
     },
     "execution_count": 1,
     "metadata": {},
     "output_type": "execute_result"
    }
   ],
   "source": [
    "import torch\n",
    "import torch.nn as nn\n",
    "from tqdm import tqdm\n",
    "from torchmetrics.classification import Accuracy, Precision, Recall\n",
    "from transformers import (\n",
    "    AutoProcessor,\n",
    "    Idefics3ForConditionalGeneration,\n",
    "    Idefics3VisionTransformer,\n",
    ")\n",
    "\n",
    "from pyroml import PyroModule, Trainer\n",
    "from pyroml.core.stage import Stage\n",
    "from pyroml.models.backbone import num_params\n",
    "from pyroml.template.flowers102.dataset import Flowers102Dataset\n",
    "from pyroml.callbacks.progress.tqdm_progress import TQDMProgress\n",
    "\n",
    "DEVICE = \"cuda\" if torch.cuda.is_available() else \"cpu\"\n",
    "DEVICE"
   ]
  },
  {
   "cell_type": "markdown",
   "metadata": {},
   "source": [
    "### 1. Instantiate vision model feature extractor"
   ]
  },
  {
   "cell_type": "code",
   "execution_count": 2,
   "metadata": {},
   "outputs": [
    {
     "name": "stderr",
     "output_type": "stream",
     "text": [
      "Some kwargs in processor config are unused and will not have any effect: image_seq_len. \n"
     ]
    }
   ],
   "source": [
    "model_id = \"HuggingFaceTB/SmolVLM-Instruct\"\n",
    "processor = AutoProcessor.from_pretrained(model_id)"
   ]
  },
  {
   "cell_type": "code",
   "execution_count": 7,
   "metadata": {},
   "outputs": [
    {
     "data": {
      "text/plain": [
       "'412,987,248'"
      ]
     },
     "execution_count": 7,
     "metadata": {},
     "output_type": "execute_result"
    }
   ],
   "source": [
    "feature_extractor = Idefics3ForConditionalGeneration.from_pretrained(\n",
    "    model_id,\n",
    "    # torch_dtype=torch.bfloat16,\n",
    "    _attn_implementation=\"eager\",  # flash_attention_2\n",
    "    device_map=\"cpu\",\n",
    ")\n",
    "# Only extract the vision part\n",
    "feature_extractor = feature_extractor.model.vision_model\n",
    "f\"{num_params(feature_extractor):,}\""
   ]
  },
  {
   "cell_type": "markdown",
   "metadata": {},
   "source": [
    "### 2. Create Flowers102 dataset with feature extractor preprocessor"
   ]
  },
  {
   "cell_type": "code",
   "execution_count": 3,
   "metadata": {},
   "outputs": [],
   "source": [
    "class Flowers102ProcessorDataset(Flowers102Dataset):\n",
    "    def __init__(self, split: str, processor: AutoProcessor):\n",
    "        super().__init__(split=split)\n",
    "        self.processor = processor\n",
    "\n",
    "    def __getitem__(self, idx):\n",
    "        item = super().__getitem__(idx)\n",
    "        item[\"image\"] = processor.image_processor(\n",
    "            item[\"image\"], return_tensors=\"pt\"\n",
    "        ).pixel_values[0, -1]\n",
    "        return item"
   ]
  },
  {
   "cell_type": "code",
   "execution_count": 4,
   "metadata": {},
   "outputs": [
    {
     "data": {
      "text/plain": [
       "(7169, 1020, dict_keys(['image', 'label']), torch.Size([3, 384, 384]))"
      ]
     },
     "execution_count": 4,
     "metadata": {},
     "output_type": "execute_result"
    }
   ],
   "source": [
    "tr_dataset = Flowers102ProcessorDataset(split=\"train\", processor=processor)\n",
    "te_dataset = Flowers102ProcessorDataset(split=\"test\", processor=processor)\n",
    "\n",
    "(\n",
    "    len(tr_dataset),\n",
    "    len(te_dataset),\n",
    "    tr_dataset[0].keys(),\n",
    "    tr_dataset[0][\"image\"].shape,\n",
    ")"
   ]
  },
  {
   "cell_type": "markdown",
   "metadata": {},
   "source": [
    "### 3. Obtain features from feature extractor"
   ]
  },
  {
   "cell_type": "code",
   "execution_count": 7,
   "metadata": {},
   "outputs": [],
   "source": [
    "def get_features(dataset: Flowers102ProcessorDataset, model: Idefics3VisionTransformer):\n",
    "    model.eval().to(DEVICE)\n",
    "    loader = torch.utils.data.DataLoader(dataset, batch_size=16, shuffle=False)\n",
    "    all_features = []\n",
    "    with torch.no_grad():\n",
    "        for batch in tqdm(loader):\n",
    "            x = batch[\"image\"].to(DEVICE)\n",
    "            features: torch.Tensor = model(x).last_hidden_state.mean(dim=1)\n",
    "            all_features.append(features.detach().cpu())\n",
    "    model.cpu()\n",
    "    return torch.cat(all_features)"
   ]
  },
  {
   "cell_type": "code",
   "execution_count": 15,
   "metadata": {},
   "outputs": [
    {
     "name": "stderr",
     "output_type": "stream",
     "text": [
      "100%|██████████| 449/449 [20:38<00:00,  2.76s/it]\n",
      "100%|██████████| 64/64 [02:57<00:00,  2.77s/it]\n"
     ]
    },
    {
     "data": {
      "text/plain": [
       "(torch.Size([7169, 1152]), torch.Size([1020, 1152]))"
      ]
     },
     "execution_count": 15,
     "metadata": {},
     "output_type": "execute_result"
    }
   ],
   "source": [
    "tr_feats = get_features(tr_dataset, feature_extractor)\n",
    "te_feats = get_features(te_dataset, feature_extractor)\n",
    "tr_feats.shape, te_feats.shape"
   ]
  },
  {
   "cell_type": "code",
   "execution_count": null,
   "metadata": {},
   "outputs": [],
   "source": [
    "# >> You might want to save the features in case something goes wrong later\n",
    "# torch.save(tr_feats, \"teacher_smolvlm-instruct_tr_feats.pt\")\n",
    "# torch.save(te_feats, \"teacher_smolvlm-instruct_te_feats.pt\")\n",
    "\n",
    "# >> And in the event that something does go wrong, no need to precompute features again, just load them\n",
    "# tr_feats = torch.load(\"teacher_smolvlm-instruct_tr_feats.pt\")\n",
    "# te_feats = torch.load(\"teacher_smolvlm-instruct_te_feats.pt\")\n",
    "# tr_feats.shape, te_feats.shape"
   ]
  },
  {
   "cell_type": "markdown",
   "metadata": {},
   "source": [
    "### 4. Create features datasets, using precomputed features from above"
   ]
  },
  {
   "cell_type": "code",
   "execution_count": 9,
   "metadata": {},
   "outputs": [],
   "source": [
    "class FeatsDataset(torch.utils.data.Dataset):\n",
    "    \"\"\"\n",
    "    Uses the precomputed features from SmolVLM vision model and the dataset labels\n",
    "    \"\"\"\n",
    "\n",
    "    def __init__(self, feats: torch.Tensor, dataset: Flowers102ProcessorDataset):\n",
    "        assert len(feats) == len(dataset)\n",
    "        self.feats = feats\n",
    "        # Use internal Flowers102 Dataset since we don't need the Processor here\n",
    "        self.dataset = dataset.ds\n",
    "\n",
    "    def __len__(self):\n",
    "        return len(self.dataset)\n",
    "\n",
    "    def __getitem__(self, idx):\n",
    "        feat = self.feats[idx]\n",
    "        label = self.dataset[idx][\"label\"]\n",
    "        return dict(feat=feat, label=label)"
   ]
  },
  {
   "cell_type": "code",
   "execution_count": 10,
   "metadata": {},
   "outputs": [],
   "source": [
    "tr_feats_dataset = FeatsDataset(feats=tr_feats, dataset=tr_dataset)\n",
    "te_feats_dataset = FeatsDataset(feats=te_feats, dataset=te_dataset)"
   ]
  },
  {
   "cell_type": "markdown",
   "metadata": {},
   "source": [
    "### 5. Create classifier taking precomputed features as input"
   ]
  },
  {
   "cell_type": "code",
   "execution_count": 11,
   "metadata": {},
   "outputs": [],
   "source": [
    "class FeaturesClassifier(PyroModule):\n",
    "    def __init__(self, last_dim: int, num_classes: int):\n",
    "        super().__init__()\n",
    "        self.fc = nn.Linear(last_dim, num_classes)\n",
    "        self.loss_fn = nn.CrossEntropyLoss()\n",
    "\n",
    "        metrics_kwargs = dict(\n",
    "            task=\"multiclass\", num_classes=num_classes, average=\"macro\"\n",
    "        )\n",
    "        self.pre = Precision(**metrics_kwargs)\n",
    "        self.acc = Accuracy(**metrics_kwargs)\n",
    "        self.rec = Recall(**metrics_kwargs)\n",
    "        self.pre_5 = Precision(**metrics_kwargs, top_k=5)\n",
    "        self.acc_5 = Accuracy(**metrics_kwargs, top_k=5)\n",
    "        self.rec_5 = Recall(**metrics_kwargs, top_k=5)\n",
    "\n",
    "    def configure_optimizers(self, loop):\n",
    "        self.optimizer = torch.optim.AdamW(self.parameters(), lr=self.trainer.lr)\n",
    "        self.scheduler = torch.optim.lr_scheduler.StepLR(\n",
    "            self.optimizer, step_size=1, gamma=0.9999\n",
    "        )\n",
    "\n",
    "    def forward(self, x: torch.Tensor):\n",
    "        x = self.fc(x)\n",
    "        return x\n",
    "\n",
    "    def step(self, batch: dict[str, torch.Tensor], stage: Stage):\n",
    "        x, y = batch[\"feat\"], batch[\"label\"]\n",
    "        preds = self(x)\n",
    "        loss: torch.Tensor = self.loss_fn(preds, y)\n",
    "\n",
    "        preds = torch.softmax(preds, dim=-1)\n",
    "        self.log(\n",
    "            lr=self.scheduler.get_last_lr()[0],\n",
    "            loss=loss.item(),\n",
    "            acc=self.acc(preds, y),\n",
    "            pre=self.pre(preds, y),\n",
    "            rec=self.rec(preds, y),\n",
    "            acc_5=self.acc_5(preds, y),\n",
    "            pre_5=self.pre_5(preds, y),\n",
    "            rec_5=self.rec_5(preds, y),\n",
    "        )\n",
    "\n",
    "        if stage == Stage.TRAIN:\n",
    "            return loss\n",
    "\n",
    "        preds = torch.softmax(preds, dim=-1)\n",
    "        return preds"
   ]
  },
  {
   "cell_type": "code",
   "execution_count": 12,
   "metadata": {},
   "outputs": [
    {
     "data": {
      "text/plain": [
       "'117,606'"
      ]
     },
     "execution_count": 12,
     "metadata": {},
     "output_type": "execute_result"
    }
   ],
   "source": [
    "last_dim = tr_feats.shape[1]\n",
    "classifier = FeaturesClassifier(last_dim=last_dim, num_classes=102)\n",
    "f\"{num_params(classifier):,}\""
   ]
  },
  {
   "cell_type": "markdown",
   "metadata": {},
   "source": [
    "### 6. Train and evaluate the classifier"
   ]
  },
  {
   "cell_type": "code",
   "execution_count": 13,
   "metadata": {},
   "outputs": [
    {
     "data": {
      "application/vnd.jupyter.widget-view+json": {
       "model_id": "911a346618fc4a9582cd04d7a6a2494f",
       "version_major": 2,
       "version_minor": 0
      },
      "text/plain": [
       "Epoch 1:   0%|          | 0/41 [00:00<?, ?it/s]"
      ]
     },
     "metadata": {},
     "output_type": "display_data"
    },
    {
     "data": {
      "application/vnd.jupyter.widget-view+json": {
       "model_id": "e1f4a598a6a845b4a86f12495ad14009",
       "version_major": 2,
       "version_minor": 0
      },
      "text/plain": [
       "Epoch 2:   0%|          | 0/41 [00:00<?, ?it/s]"
      ]
     },
     "metadata": {},
     "output_type": "display_data"
    },
    {
     "data": {
      "application/vnd.jupyter.widget-view+json": {
       "model_id": "689ca293b10f47269bff5c4f958c9fe5",
       "version_major": 2,
       "version_minor": 0
      },
      "text/plain": [
       "Epoch 3:   0%|          | 0/41 [00:00<?, ?it/s]"
      ]
     },
     "metadata": {},
     "output_type": "display_data"
    },
    {
     "data": {
      "application/vnd.jupyter.widget-view+json": {
       "model_id": "58a817207bf14f8eaf92fa37c8fff2c7",
       "version_major": 2,
       "version_minor": 0
      },
      "text/plain": [
       "Epoch 4:   0%|          | 0/41 [00:00<?, ?it/s]"
      ]
     },
     "metadata": {},
     "output_type": "display_data"
    },
    {
     "data": {
      "application/vnd.jupyter.widget-view+json": {
       "model_id": "ceef6096eaf3451996761e50578c0f10",
       "version_major": 2,
       "version_minor": 0
      },
      "text/plain": [
       "Epoch 5:   0%|          | 0/41 [00:00<?, ?it/s]"
      ]
     },
     "metadata": {},
     "output_type": "display_data"
    },
    {
     "data": {
      "application/vnd.jupyter.widget-view+json": {
       "model_id": "88ab382373724a02864ce0db257a2836",
       "version_major": 2,
       "version_minor": 0
      },
      "text/plain": [
       "Epoch 6:   0%|          | 0/41 [00:00<?, ?it/s]"
      ]
     },
     "metadata": {},
     "output_type": "display_data"
    },
    {
     "data": {
      "application/vnd.jupyter.widget-view+json": {
       "model_id": "30ff4dd2c5b343d9a72eff4662e86d98",
       "version_major": 2,
       "version_minor": 0
      },
      "text/plain": [
       "Epoch 7:   0%|          | 0/41 [00:00<?, ?it/s]"
      ]
     },
     "metadata": {},
     "output_type": "display_data"
    },
    {
     "data": {
      "application/vnd.jupyter.widget-view+json": {
       "model_id": "698a66c94655432291cc4904bd8e5676",
       "version_major": 2,
       "version_minor": 0
      },
      "text/plain": [
       "Epoch 8:   0%|          | 0/41 [00:00<?, ?it/s]"
      ]
     },
     "metadata": {},
     "output_type": "display_data"
    },
    {
     "data": {
      "application/vnd.jupyter.widget-view+json": {
       "model_id": "9589f69afc5240089797476eac5082d7",
       "version_major": 2,
       "version_minor": 0
      },
      "text/plain": [
       "Epoch 9:   0%|          | 0/41 [00:00<?, ?it/s]"
      ]
     },
     "metadata": {},
     "output_type": "display_data"
    },
    {
     "data": {
      "application/vnd.jupyter.widget-view+json": {
       "model_id": "13056ae299d64b5496e3d2b371dea5ae",
       "version_major": 2,
       "version_minor": 0
      },
      "text/plain": [
       "Epoch 10:   0%|          | 0/41 [00:00<?, ?it/s]"
      ]
     },
     "metadata": {},
     "output_type": "display_data"
    },
    {
     "data": {
      "application/vnd.jupyter.widget-view+json": {
       "model_id": "f9a22e0e473a4d2680342598b346aa95",
       "version_major": 2,
       "version_minor": 0
      },
      "text/plain": [
       "Epoch 11:   0%|          | 0/41 [00:00<?, ?it/s]"
      ]
     },
     "metadata": {},
     "output_type": "display_data"
    },
    {
     "data": {
      "application/vnd.jupyter.widget-view+json": {
       "model_id": "c7268f21740f4779acf0c0f29b83d611",
       "version_major": 2,
       "version_minor": 0
      },
      "text/plain": [
       "Epoch 12:   0%|          | 0/41 [00:00<?, ?it/s]"
      ]
     },
     "metadata": {},
     "output_type": "display_data"
    }
   ],
   "source": [
    "trainer = Trainer(\n",
    "    lr=0.005,\n",
    "    batch_size=176,\n",
    "    max_epochs=12,\n",
    "    evaluate_on=False,\n",
    "    dtype=torch.bfloat16,\n",
    "    num_workers=0,\n",
    "    device=DEVICE,\n",
    "    callbacks=[TQDMProgress()],\n",
    ")\n",
    "tr_tracker = trainer.fit(classifier, tr_feats_dataset)"
   ]
  },
  {
   "cell_type": "code",
   "execution_count": 14,
   "metadata": {},
   "outputs": [
    {
     "data": {
      "image/png": "[encoded data removed]",
      "text/plain": [
       "<Figure size 2400x300 with 8 Axes>"
      ]
     },
     "metadata": {},
     "output_type": "display_data"
    }
   ],
   "source": [
    "tr_tracker.plot(epoch=True)"
   ]
  },
  {
   "cell_type": "code",
   "execution_count": 15,
   "metadata": {},
   "outputs": [
    {
     "data": {
      "application/vnd.jupyter.widget-view+json": {
       "model_id": "cbb78825c0c34d8ab5a70b089e891b0d",
       "version_major": 2,
       "version_minor": 0
      },
      "text/plain": [
       "Validating:   0%|          | 0/6 [00:00<?, ?it/s]"
      ]
     },
     "metadata": {},
     "output_type": "display_data"
    }
   ],
   "source": [
    "te_tracker = trainer.evaluate(classifier, te_feats_dataset)"
   ]
  },
  {
   "cell_type": "code",
   "execution_count": 16,
   "metadata": {},
   "outputs": [
    {
     "data": {
      "text/html": [
       "<pre style=\"white-space:pre;overflow-x:auto;line-height:normal;font-family:Menlo,'DejaVu Sans Mono',consolas,'Courier New',monospace\"><span style=\"font-weight: bold\">{</span>\n",
       "    <span style=\"color: #008000; text-decoration-color: #008000\">'lr'</span>: <span style=\"color: #008080; text-decoration-color: #008080; font-weight: bold\">0.004759941852322568</span>,\n",
       "    <span style=\"color: #008000; text-decoration-color: #008000\">'loss'</span>: <span style=\"color: #008080; text-decoration-color: #008080; font-weight: bold\">0.05358679903050264</span>,\n",
       "    <span style=\"color: #008000; text-decoration-color: #008000\">'acc'</span>: <span style=\"color: #008080; text-decoration-color: #008080; font-weight: bold\">0.9850654800732931</span>,\n",
       "    <span style=\"color: #008000; text-decoration-color: #008000\">'pre'</span>: <span style=\"color: #008080; text-decoration-color: #008080; font-weight: bold\">0.9863804777463278</span>,\n",
       "    <span style=\"color: #008000; text-decoration-color: #008000\">'rec'</span>: <span style=\"color: #008080; text-decoration-color: #008080; font-weight: bold\">0.9850654800732931</span>,\n",
       "    <span style=\"color: #008000; text-decoration-color: #008000\">'acc_5'</span>: <span style=\"color: #008080; text-decoration-color: #008080; font-weight: bold\">0.9982456167538961</span>,\n",
       "    <span style=\"color: #008000; text-decoration-color: #008000\">'pre_5'</span>: <span style=\"color: #008080; text-decoration-color: #008080; font-weight: bold\">0.9992690086364746</span>,\n",
       "    <span style=\"color: #008000; text-decoration-color: #008000\">'rec_5'</span>: <span style=\"color: #008080; text-decoration-color: #008080; font-weight: bold\">0.9982456167538961</span>\n",
       "<span style=\"font-weight: bold\">}</span>\n",
       "</pre>\n"
      ],
      "text/plain": [
       "\u001b[1m{\u001b[0m\n",
       "    \u001b[32m'lr'\u001b[0m: \u001b[1;36m0.004759941852322568\u001b[0m,\n",
       "    \u001b[32m'loss'\u001b[0m: \u001b[1;36m0.05358679903050264\u001b[0m,\n",
       "    \u001b[32m'acc'\u001b[0m: \u001b[1;36m0.9850654800732931\u001b[0m,\n",
       "    \u001b[32m'pre'\u001b[0m: \u001b[1;36m0.9863804777463278\u001b[0m,\n",
       "    \u001b[32m'rec'\u001b[0m: \u001b[1;36m0.9850654800732931\u001b[0m,\n",
       "    \u001b[32m'acc_5'\u001b[0m: \u001b[1;36m0.9982456167538961\u001b[0m,\n",
       "    \u001b[32m'pre_5'\u001b[0m: \u001b[1;36m0.9992690086364746\u001b[0m,\n",
       "    \u001b[32m'rec_5'\u001b[0m: \u001b[1;36m0.9982456167538961\u001b[0m\n",
       "\u001b[1m}\u001b[0m\n"
      ]
     },
     "metadata": {},
     "output_type": "display_data"
    }
   ],
   "source": [
    "import rich\n",
    "\n",
    "rich.print(te_tracker.get_last_epoch_metrics())"
   ]
  },
  {
   "cell_type": "code",
   "execution_count": 17,
   "metadata": {},
   "outputs": [
    {
     "data": {
      "image/png": "[encoded data removed]",
      "text/plain": [
       "<Figure size 900x300 with 3 Axes>"
      ]
     },
     "metadata": {},
     "output_type": "display_data"
    }
   ],
   "source": [
    "te_tracker.plot(kind=\"bar\", plot_keys=[\"acc\", \"pre\", \"rec\"])"
   ]
  }
 ],
 "metadata": {
  "kernelspec": {
   "display_name": ".venv",
   "language": "python",
   "name": "python3"
  },
  "language_info": {
   "codemirror_mode": {
    "name": "ipython",
    "version": 3
   },
   "file_extension": ".py",
   "mimetype": "text/x-python",
   "name": "python",
   "nbconvert_exporter": "python",
   "pygments_lexer": "ipython3",
   "version": "3.11.7"
  }
 },
 "nbformat": 4,
 "nbformat_minor": 2
}
