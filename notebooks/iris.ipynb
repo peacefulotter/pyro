{
 "cells": [
  {
   "cell_type": "code",
   "execution_count": null,
   "metadata": {},
   "outputs": [],
   "source": [
    "%load_ext autoreload\n",
    "%autoreload 2"
   ]
  },
  {
   "cell_type": "code",
   "execution_count": null,
   "metadata": {},
   "outputs": [],
   "source": [
    "import torch\n",
    "import sys\n",
    "\n",
    "sys.path.append(\"../\")\n",
    "\n",
    "\n",
    "import pyroml as p\n",
    "from pyroml.template.iris import IrisModel, IrisDataset"
   ]
  },
  {
   "cell_type": "code",
   "execution_count": null,
   "metadata": {},
   "outputs": [],
   "source": [
    "SEED = 42\n",
    "p.seed_everything(SEED)"
   ]
  },
  {
   "cell_type": "code",
   "execution_count": null,
   "metadata": {},
   "outputs": [],
   "source": [
    "ds = IrisDataset()\n",
    "tr_ds, ev_ds, te_ds = torch.utils.data.random_split(\n",
    "    ds, [int(0.5 * len(ds)), int(0.2 * len(ds)), int(0.3 * len(ds))]\n",
    ")\n",
    "len(tr_ds), len(ev_ds), len(te_ds)"
   ]
  },
  {
   "cell_type": "code",
   "execution_count": null,
   "metadata": {},
   "outputs": [],
   "source": [
    "from pyroml.loop import Loop\n",
    "\n",
    "\n",
    "class ScheduledIrisNet(IrisModel):\n",
    "    def configure_optimizers(self, loop: \"Loop\"):\n",
    "        tr = self.trainer\n",
    "        self.optimizer = torch.optim.AdamW(self.parameters(), lr=tr.lr)\n",
    "        self.scheduler = torch.optim.lr_scheduler.OneCycleLR(\n",
    "            self.optimizer,\n",
    "            max_lr=tr.lr,\n",
    "            total_steps=loop.total_steps,\n",
    "            steps_per_epoch=loop.steps_per_epochs,\n",
    "            anneal_strategy=\"cos\",\n",
    "            cycle_momentum=False,\n",
    "            div_factor=1e2,\n",
    "            final_div_factor=0.05,\n",
    "        )"
   ]
  },
  {
   "cell_type": "code",
   "execution_count": null,
   "metadata": {},
   "outputs": [],
   "source": [
    "model = ScheduledIrisNet()\n",
    "model"
   ]
  },
  {
   "cell_type": "code",
   "execution_count": null,
   "metadata": {},
   "outputs": [],
   "source": [
    "import logging\n",
    "\n",
    "from pyroml.callbacks.progress import TQDMProgress\n",
    "\n",
    "trainer = p.Trainer(\n",
    "    device=\"cpu\",\n",
    "    compile=True,\n",
    "    max_epochs=12,\n",
    "    batch_size=4,\n",
    "    lr=0.005,\n",
    "    evaluate_on=\"epoch\",\n",
    "    evaluate_every=1,\n",
    "    wandb=False,\n",
    "    dtype=torch.bfloat16,\n",
    "    log_level=logging.NOTSET,\n",
    "    num_workers=0,\n",
    "    callbacks=[TQDMProgress()],\n",
    ")"
   ]
  },
  {
   "cell_type": "code",
   "execution_count": null,
   "metadata": {},
   "outputs": [],
   "source": [
    "tr_tracker = trainer.fit(model=model, tr_dataset=tr_ds, ev_dataset=ev_ds)\n",
    "tr_tracker.records"
   ]
  },
  {
   "cell_type": "code",
   "execution_count": null,
   "metadata": {},
   "outputs": [],
   "source": [
    "r = tr_tracker.records\n",
    "r[(r[\"stage\"] == p.Stage.TRAIN.value) & (r[\"step\"] != -1)][[\"step\", \"loss\"]].plot(\n",
    "    x=\"step\"\n",
    ")"
   ]
  },
  {
   "cell_type": "code",
   "execution_count": null,
   "metadata": {},
   "outputs": [],
   "source": [
    "tr_tracker.plot(stage=p.Stage.VAL, epoch=True, kind=\"bar\")"
   ]
  },
  {
   "cell_type": "code",
   "execution_count": null,
   "metadata": {},
   "outputs": [],
   "source": [
    "te_metrics = trainer.evaluate(model, te_ds)\n",
    "te_metrics.plot(epoch=True, kind=\"bar\")"
   ]
  }
 ],
 "metadata": {
  "kernelspec": {
   "display_name": "pyroml-J_TrbIHS-py3.10",
   "language": "python",
   "name": "python3"
  },
  "language_info": {
   "codemirror_mode": {
    "name": "ipython",
    "version": 3
   },
   "file_extension": ".py",
   "mimetype": "text/x-python",
   "name": "python",
   "nbconvert_exporter": "python",
   "pygments_lexer": "ipython3",
   "version": "3.10.0"
  }
 },
 "nbformat": 4,
 "nbformat_minor": 2
}
