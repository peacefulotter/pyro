{
 "cells": [
  {
   "cell_type": "code",
   "execution_count": 1,
   "metadata": {},
   "outputs": [],
   "source": [
    "%load_ext autoreload\n",
    "%autoreload 2"
   ]
  },
  {
   "cell_type": "code",
   "execution_count": 278,
   "metadata": {},
   "outputs": [],
   "source": [
    "import torch\n",
    "import numpy as np\n",
    "import torch.nn as nn\n",
    "\n",
    "import sys\n",
    "sys.path.append('../')\n",
    "\n",
    "\n",
    "import pyroml as p\n",
    "from pyroml.template.iris import IrisNet, IrisDataset, load_dataset"
   ]
  },
  {
   "cell_type": "code",
   "execution_count": 3,
   "metadata": {},
   "outputs": [],
   "source": [
    "SEED = 42\n",
    "p.seed_everything(SEED)"
   ]
  },
  {
   "cell_type": "code",
   "execution_count": 36,
   "metadata": {},
   "outputs": [],
   "source": [
    "ds = load_dataset()\n",
    "ds = ds.shuffle(seed=SEED)\n",
    "tr_ds, ev_ds, te_ds = np.split(ds, [int(0.6 * len(ds)), int(0.7 * len(ds))])\n",
    "\n",
    "tr_ds = IrisDataset(tr_ds)\n",
    "ev_ds = IrisDataset(ev_ds)\n",
    "te_ds = IrisDataset(te_ds)"
   ]
  },
  {
   "cell_type": "code",
   "execution_count": 124,
   "metadata": {},
   "outputs": [],
   "source": [
    "class ScheduledIrisNet(IrisNet):\n",
    "    def configure_optimizers(self, loop: \"p.Loop\"):\n",
    "        tr = self.trainer\n",
    "        self.optimizer = torch.optim.AdamW(self.parameters(), lr=tr.lr)\n",
    "        self.scheduler = torch.optim.lr_scheduler.OneCycleLR(\n",
    "            self.optimizer,\n",
    "            max_lr=tr.lr,\n",
    "            total_steps=loop.total_steps,\n",
    "            steps_per_epoch=loop.steps_per_epochs,\n",
    "            epochs=tr.max_epochs,\n",
    "            anneal_strategy=\"cos\",\n",
    "            cycle_momentum=False,\n",
    "            div_factor=1e2,\n",
    "            final_div_factor=0.05,\n",
    "        )"
   ]
  },
  {
   "cell_type": "code",
   "execution_count": 125,
   "metadata": {},
   "outputs": [
    {
     "data": {
      "text/plain": [
       "ScheduledIrisNet(\n",
       "  (module): Sequential(\n",
       "    (0): Linear(in_features=4, out_features=16, bias=True)\n",
       "    (1): ReLU()\n",
       "    (2): Linear(in_features=16, out_features=16, bias=True)\n",
       "    (3): ReLU()\n",
       "    (4): Linear(in_features=16, out_features=3, bias=True)\n",
       "  )\n",
       ")"
      ]
     },
     "execution_count": 125,
     "metadata": {},
     "output_type": "execute_result"
    }
   ],
   "source": [
    "model = ScheduledIrisNet()\n",
    "model"
   ]
  },
  {
   "cell_type": "code",
   "execution_count": 126,
   "metadata": {},
   "outputs": [],
   "source": [
    "import logging\n",
    "trainer = p.Trainer(\n",
    "    compile=True,\n",
    "    loss=nn.CrossEntropyLoss(),\n",
    "    max_epochs=12,\n",
    "    batch_size=16,\n",
    "    lr=0.005,\n",
    "    evaluate=True,\n",
    "    evaluate_every=12,\n",
    "    wandb=False,\n",
    "    dtype=torch.bfloat16,\n",
    "    log_level=logging.INFO,\n",
    ")"
   ]
  },
  {
   "cell_type": "code",
   "execution_count": 284,
   "metadata": {},
   "outputs": [
    {
     "name": "stderr",
     "output_type": "stream",
     "text": [
      "/home/edge/dev/py/pyro/.venv/lib/python3.12/site-packages/torchmetrics/utilities/prints.py:43: FutureWarning: The default value for `maximize` will be changed from `True` to `None` in v1.7.0 of TorchMetrics,will automatically infer the value based on the `higher_is_better` attribute of the metric (if such attribute exists) or raise an error if it does not. If you are explicitly setting the `maximize` argument to either `True` or `False` already, you can ignore this warning.\n",
      "  warnings.warn(*args, **kwargs)  # noqa: B028\n",
      "/home/edge/anaconda3/lib/python3.12/multiprocessing/popen_fork.py:66: DeprecationWarning: This process (pid=61888) is multi-threaded, use of fork() may lead to deadlocks in the child.\n",
      "  self.pid = os.fork()\n"
     ]
    },
    {
     "data": {
      "text/html": [
       "<pre style=\"white-space:pre;overflow-x:auto;line-height:normal;font-family:Menlo,'DejaVu Sans Mono',consolas,'Courier New',monospace\">/home/edge/dev/py/pyro/.venv/lib/python3.12/site-packages/torchmetrics/utilities/prints.py:43: FutureWarning: The \n",
       "default value for `maximize` will be changed from `True` to `None` in v1.7.0 of TorchMetrics,will automatically \n",
       "infer the value based on the `higher_is_better` attribute of the metric (if such attribute exists) or raise an \n",
       "error if it does not. If you are explicitly setting the `maximize` argument to either `True` or `False` already, \n",
       "you can ignore this warning.\n",
       "  warnings.warn(*args, **kwargs)  # noqa: B028\n",
       "</pre>\n"
      ],
      "text/plain": [
       "/home/edge/dev/py/pyro/.venv/lib/python3.12/site-packages/torchmetrics/utilities/prints.py:43: FutureWarning: The \n",
       "default value for `maximize` will be changed from `True` to `None` in v1.7.0 of TorchMetrics,will automatically \n",
       "infer the value based on the `higher_is_better` attribute of the metric (if such attribute exists) or raise an \n",
       "error if it does not. If you are explicitly setting the `maximize` argument to either `True` or `False` already, \n",
       "you can ignore this warning.\n",
       "  warnings.warn(*args, **kwargs)  # noqa: B028\n"
      ]
     },
     "metadata": {},
     "output_type": "display_data"
    },
    {
     "data": {
      "text/html": [
       "<pre style=\"white-space:pre;overflow-x:auto;line-height:normal;font-family:Menlo,'DejaVu Sans Mono',consolas,'Courier New',monospace\">/home/edge/dev/py/pyro/pyroml/metrics/tracker.py:117: MissingStepKeyWarning: No metric key Step.METRIC_TARGET in \n",
       "output, using Step.TARGET instead\n",
       "If your model is used for classification, you likely want to output a Step.METRIC_TARGET key as well.\n",
       "  \n",
       "</pre>\n"
      ],
      "text/plain": [
       "/home/edge/dev/py/pyro/pyroml/metrics/tracker.py:117: MissingStepKeyWarning: No metric key Step.METRIC_TARGET in \n",
       "output, using Step.TARGET instead\n",
       "If your model is used for classification, you likely want to output a Step.METRIC_TARGET key as well.\n",
       "  \n"
      ]
     },
     "metadata": {},
     "output_type": "display_data"
    },
    {
     "data": {
      "text/html": [
       "<pre style=\"white-space:pre;overflow-x:auto;line-height:normal;font-family:Menlo,'DejaVu Sans Mono',consolas,'Courier New',monospace\">/home/edge/dev/py/pyro/pyroml/metrics/tracker.py:117: MissingStepKeyWarning: No metric key Step.METRIC_TARGET in \n",
       "output, using Step.TARGET instead\n",
       "If your model is used for classification, you likely want to output a Step.METRIC_TARGET key as well.\n",
       "  \n",
       "</pre>\n"
      ],
      "text/plain": [
       "/home/edge/dev/py/pyro/pyroml/metrics/tracker.py:117: MissingStepKeyWarning: No metric key Step.METRIC_TARGET in \n",
       "output, using Step.TARGET instead\n",
       "If your model is used for classification, you likely want to output a Step.METRIC_TARGET key as well.\n",
       "  \n"
      ]
     },
     "metadata": {},
     "output_type": "display_data"
    },
    {
     "data": {
      "text/html": [
       "<pre style=\"white-space:pre;overflow-x:auto;line-height:normal;font-family:Menlo,'DejaVu Sans Mono',consolas,'Courier New',monospace\">/home/edge/dev/py/pyro/pyroml/metrics/tracker.py:117: MissingStepKeyWarning: No metric key Step.METRIC_TARGET in \n",
       "output, using Step.TARGET instead\n",
       "If your model is used for classification, you likely want to output a Step.METRIC_TARGET key as well.\n",
       "  \n",
       "</pre>\n"
      ],
      "text/plain": [
       "/home/edge/dev/py/pyro/pyroml/metrics/tracker.py:117: MissingStepKeyWarning: No metric key Step.METRIC_TARGET in \n",
       "output, using Step.TARGET instead\n",
       "If your model is used for classification, you likely want to output a Step.METRIC_TARGET key as well.\n",
       "  \n"
      ]
     },
     "metadata": {},
     "output_type": "display_data"
    },
    {
     "data": {
      "text/html": [
       "<pre style=\"white-space:pre;overflow-x:auto;line-height:normal;font-family:Menlo,'DejaVu Sans Mono',consolas,'Courier New',monospace\">/home/edge/dev/py/pyro/pyroml/metrics/tracker.py:117: MissingStepKeyWarning: No metric key Step.METRIC_TARGET in \n",
       "output, using Step.TARGET instead\n",
       "If your model is used for classification, you likely want to output a Step.METRIC_TARGET key as well.\n",
       "  \n",
       "</pre>\n"
      ],
      "text/plain": [
       "/home/edge/dev/py/pyro/pyroml/metrics/tracker.py:117: MissingStepKeyWarning: No metric key Step.METRIC_TARGET in \n",
       "output, using Step.TARGET instead\n",
       "If your model is used for classification, you likely want to output a Step.METRIC_TARGET key as well.\n",
       "  \n"
      ]
     },
     "metadata": {},
     "output_type": "display_data"
    },
    {
     "data": {
      "text/html": [
       "<pre style=\"white-space:pre;overflow-x:auto;line-height:normal;font-family:Menlo,'DejaVu Sans Mono',consolas,'Courier New',monospace\">/home/edge/dev/py/pyro/pyroml/metrics/tracker.py:117: MissingStepKeyWarning: No metric key Step.METRIC_TARGET in \n",
       "output, using Step.TARGET instead\n",
       "If your model is used for classification, you likely want to output a Step.METRIC_TARGET key as well.\n",
       "  \n",
       "</pre>\n"
      ],
      "text/plain": [
       "/home/edge/dev/py/pyro/pyroml/metrics/tracker.py:117: MissingStepKeyWarning: No metric key Step.METRIC_TARGET in \n",
       "output, using Step.TARGET instead\n",
       "If your model is used for classification, you likely want to output a Step.METRIC_TARGET key as well.\n",
       "  \n"
      ]
     },
     "metadata": {},
     "output_type": "display_data"
    },
    {
     "data": {
      "text/html": [
       "<pre style=\"white-space:pre;overflow-x:auto;line-height:normal;font-family:Menlo,'DejaVu Sans Mono',consolas,'Courier New',monospace\">/home/edge/dev/py/pyro/pyroml/metrics/tracker.py:117: MissingStepKeyWarning: No metric key Step.METRIC_TARGET in \n",
       "output, using Step.TARGET instead\n",
       "If your model is used for classification, you likely want to output a Step.METRIC_TARGET key as well.\n",
       "  \n",
       "</pre>\n"
      ],
      "text/plain": [
       "/home/edge/dev/py/pyro/pyroml/metrics/tracker.py:117: MissingStepKeyWarning: No metric key Step.METRIC_TARGET in \n",
       "output, using Step.TARGET instead\n",
       "If your model is used for classification, you likely want to output a Step.METRIC_TARGET key as well.\n",
       "  \n"
      ]
     },
     "metadata": {},
     "output_type": "display_data"
    },
    {
     "data": {
      "text/html": [
       "<pre style=\"white-space:pre;overflow-x:auto;line-height:normal;font-family:Menlo,'DejaVu Sans Mono',consolas,'Courier New',monospace\">/home/edge/dev/py/pyro/pyroml/metrics/tracker.py:117: MissingStepKeyWarning: No metric key Step.METRIC_TARGET in \n",
       "output, using Step.TARGET instead\n",
       "If your model is used for classification, you likely want to output a Step.METRIC_TARGET key as well.\n",
       "  \n",
       "</pre>\n"
      ],
      "text/plain": [
       "/home/edge/dev/py/pyro/pyroml/metrics/tracker.py:117: MissingStepKeyWarning: No metric key Step.METRIC_TARGET in \n",
       "output, using Step.TARGET instead\n",
       "If your model is used for classification, you likely want to output a Step.METRIC_TARGET key as well.\n",
       "  \n"
      ]
     },
     "metadata": {},
     "output_type": "display_data"
    },
    {
     "data": {
      "text/html": [
       "<pre style=\"white-space:pre;overflow-x:auto;line-height:normal;font-family:Menlo,'DejaVu Sans Mono',consolas,'Courier New',monospace\">/home/edge/anaconda3/lib/python3.12/multiprocessing/popen_fork.py:66: DeprecationWarning: This process (pid=61888) \n",
       "is multi-threaded, use of fork() may lead to deadlocks in the child.\n",
       "  self.pid = os.fork()\n",
       "</pre>\n"
      ],
      "text/plain": [
       "/home/edge/anaconda3/lib/python3.12/multiprocessing/popen_fork.py:66: DeprecationWarning: This process (pid=61888) \n",
       "is multi-threaded, use of fork() may lead to deadlocks in the child.\n",
       "  self.pid = os.fork()\n"
      ]
     },
     "metadata": {},
     "output_type": "display_data"
    },
    {
     "data": {
      "text/html": [
       "<pre style=\"white-space:pre;overflow-x:auto;line-height:normal;font-family:Menlo,'DejaVu Sans Mono',consolas,'Courier New',monospace\">/home/edge/dev/py/pyro/pyroml/metrics/tracker.py:117: MissingStepKeyWarning: No metric key Step.METRIC_TARGET in \n",
       "output, using Step.TARGET instead\n",
       "If your model is used for classification, you likely want to output a Step.METRIC_TARGET key as well.\n",
       "  \n",
       "</pre>\n"
      ],
      "text/plain": [
       "/home/edge/dev/py/pyro/pyroml/metrics/tracker.py:117: MissingStepKeyWarning: No metric key Step.METRIC_TARGET in \n",
       "output, using Step.TARGET instead\n",
       "If your model is used for classification, you likely want to output a Step.METRIC_TARGET key as well.\n",
       "  \n"
      ]
     },
     "metadata": {},
     "output_type": "display_data"
    },
    {
     "data": {
      "text/html": [
       "<pre style=\"white-space:pre;overflow-x:auto;line-height:normal;font-family:Menlo,'DejaVu Sans Mono',consolas,'Courier New',monospace\">/home/edge/dev/py/pyro/pyroml/metrics/tracker.py:117: MissingStepKeyWarning: No metric key Step.METRIC_TARGET in \n",
       "output, using Step.TARGET instead\n",
       "If your model is used for classification, you likely want to output a Step.METRIC_TARGET key as well.\n",
       "  \n",
       "</pre>\n"
      ],
      "text/plain": [
       "/home/edge/dev/py/pyro/pyroml/metrics/tracker.py:117: MissingStepKeyWarning: No metric key Step.METRIC_TARGET in \n",
       "output, using Step.TARGET instead\n",
       "If your model is used for classification, you likely want to output a Step.METRIC_TARGET key as well.\n",
       "  \n"
      ]
     },
     "metadata": {},
     "output_type": "display_data"
    },
    {
     "data": {
      "text/html": [
       "<pre style=\"white-space:pre;overflow-x:auto;line-height:normal;font-family:Menlo,'DejaVu Sans Mono',consolas,'Courier New',monospace\">/home/edge/dev/py/pyro/pyroml/metrics/tracker.py:117: MissingStepKeyWarning: No metric key Step.METRIC_TARGET in \n",
       "output, using Step.TARGET instead\n",
       "If your model is used for classification, you likely want to output a Step.METRIC_TARGET key as well.\n",
       "  \n",
       "</pre>\n"
      ],
      "text/plain": [
       "/home/edge/dev/py/pyro/pyroml/metrics/tracker.py:117: MissingStepKeyWarning: No metric key Step.METRIC_TARGET in \n",
       "output, using Step.TARGET instead\n",
       "If your model is used for classification, you likely want to output a Step.METRIC_TARGET key as well.\n",
       "  \n"
      ]
     },
     "metadata": {},
     "output_type": "display_data"
    },
    {
     "data": {
      "text/html": [
       "<pre style=\"white-space:pre;overflow-x:auto;line-height:normal;font-family:Menlo,'DejaVu Sans Mono',consolas,'Courier New',monospace\">/home/edge/dev/py/pyro/pyroml/metrics/tracker.py:117: MissingStepKeyWarning: No metric key Step.METRIC_TARGET in \n",
       "output, using Step.TARGET instead\n",
       "If your model is used for classification, you likely want to output a Step.METRIC_TARGET key as well.\n",
       "  \n",
       "</pre>\n"
      ],
      "text/plain": [
       "/home/edge/dev/py/pyro/pyroml/metrics/tracker.py:117: MissingStepKeyWarning: No metric key Step.METRIC_TARGET in \n",
       "output, using Step.TARGET instead\n",
       "If your model is used for classification, you likely want to output a Step.METRIC_TARGET key as well.\n",
       "  \n"
      ]
     },
     "metadata": {},
     "output_type": "display_data"
    },
    {
     "data": {
      "text/html": [
       "<pre style=\"white-space:pre;overflow-x:auto;line-height:normal;font-family:Menlo,'DejaVu Sans Mono',consolas,'Courier New',monospace\">/home/edge/dev/py/pyro/pyroml/metrics/tracker.py:117: MissingStepKeyWarning: No metric key Step.METRIC_TARGET in \n",
       "output, using Step.TARGET instead\n",
       "If your model is used for classification, you likely want to output a Step.METRIC_TARGET key as well.\n",
       "  \n",
       "</pre>\n"
      ],
      "text/plain": [
       "/home/edge/dev/py/pyro/pyroml/metrics/tracker.py:117: MissingStepKeyWarning: No metric key Step.METRIC_TARGET in \n",
       "output, using Step.TARGET instead\n",
       "If your model is used for classification, you likely want to output a Step.METRIC_TARGET key as well.\n",
       "  \n"
      ]
     },
     "metadata": {},
     "output_type": "display_data"
    },
    {
     "data": {
      "text/html": [
       "<pre style=\"white-space:pre;overflow-x:auto;line-height:normal;font-family:Menlo,'DejaVu Sans Mono',consolas,'Courier New',monospace\">/home/edge/dev/py/pyro/pyroml/metrics/tracker.py:117: MissingStepKeyWarning: No metric key Step.METRIC_TARGET in \n",
       "output, using Step.TARGET instead\n",
       "If your model is used for classification, you likely want to output a Step.METRIC_TARGET key as well.\n",
       "  \n",
       "</pre>\n"
      ],
      "text/plain": [
       "/home/edge/dev/py/pyro/pyroml/metrics/tracker.py:117: MissingStepKeyWarning: No metric key Step.METRIC_TARGET in \n",
       "output, using Step.TARGET instead\n",
       "If your model is used for classification, you likely want to output a Step.METRIC_TARGET key as well.\n",
       "  \n"
      ]
     },
     "metadata": {},
     "output_type": "display_data"
    },
    {
     "data": {
      "text/html": [
       "<pre style=\"white-space:pre;overflow-x:auto;line-height:normal;font-family:Menlo,'DejaVu Sans Mono',consolas,'Courier New',monospace\">/home/edge/anaconda3/lib/python3.12/multiprocessing/popen_fork.py:66: DeprecationWarning: This process (pid=61888) \n",
       "is multi-threaded, use of fork() may lead to deadlocks in the child.\n",
       "  self.pid = os.fork()\n",
       "</pre>\n"
      ],
      "text/plain": [
       "/home/edge/anaconda3/lib/python3.12/multiprocessing/popen_fork.py:66: DeprecationWarning: This process (pid=61888) \n",
       "is multi-threaded, use of fork() may lead to deadlocks in the child.\n",
       "  self.pid = os.fork()\n"
      ]
     },
     "metadata": {},
     "output_type": "display_data"
    },
    {
     "data": {
      "text/html": [
       "<pre style=\"white-space:pre;overflow-x:auto;line-height:normal;font-family:Menlo,'DejaVu Sans Mono',consolas,'Courier New',monospace\">/home/edge/dev/py/pyro/.venv/lib/python3.12/site-packages/torchmetrics/utilities/prints.py:43: FutureWarning: The \n",
       "default value for `maximize` will be changed from `True` to `None` in v1.7.0 of TorchMetrics,will automatically \n",
       "infer the value based on the `higher_is_better` attribute of the metric (if such attribute exists) or raise an \n",
       "error if it does not. If you are explicitly setting the `maximize` argument to either `True` or `False` already, \n",
       "you can ignore this warning.\n",
       "  warnings.warn(*args, **kwargs)  # noqa: B028\n",
       "</pre>\n"
      ],
      "text/plain": [
       "/home/edge/dev/py/pyro/.venv/lib/python3.12/site-packages/torchmetrics/utilities/prints.py:43: FutureWarning: The \n",
       "default value for `maximize` will be changed from `True` to `None` in v1.7.0 of TorchMetrics,will automatically \n",
       "infer the value based on the `higher_is_better` attribute of the metric (if such attribute exists) or raise an \n",
       "error if it does not. If you are explicitly setting the `maximize` argument to either `True` or `False` already, \n",
       "you can ignore this warning.\n",
       "  warnings.warn(*args, **kwargs)  # noqa: B028\n"
      ]
     },
     "metadata": {},
     "output_type": "display_data"
    },
    {
     "data": {
      "text/html": [
       "<pre style=\"white-space:pre;overflow-x:auto;line-height:normal;font-family:Menlo,'DejaVu Sans Mono',consolas,'Courier New',monospace\">/home/edge/dev/py/pyro/pyroml/metrics/tracker.py:117: MissingStepKeyWarning: No metric key Step.METRIC_TARGET in \n",
       "output, using Step.TARGET instead\n",
       "If your model is used for classification, you likely want to output a Step.METRIC_TARGET key as well.\n",
       "  \n",
       "</pre>\n"
      ],
      "text/plain": [
       "/home/edge/dev/py/pyro/pyroml/metrics/tracker.py:117: MissingStepKeyWarning: No metric key Step.METRIC_TARGET in \n",
       "output, using Step.TARGET instead\n",
       "If your model is used for classification, you likely want to output a Step.METRIC_TARGET key as well.\n",
       "  \n"
      ]
     },
     "metadata": {},
     "output_type": "display_data"
    },
    {
     "data": {
      "text/html": [
       "<pre style=\"white-space:pre;overflow-x:auto;line-height:normal;font-family:Menlo,'DejaVu Sans Mono',consolas,'Courier New',monospace\">/home/edge/dev/py/pyro/pyroml/metrics/tracker.py:117: MissingStepKeyWarning: No metric key Step.METRIC_TARGET in \n",
       "output, using Step.TARGET instead\n",
       "If your model is used for classification, you likely want to output a Step.METRIC_TARGET key as well.\n",
       "  \n",
       "</pre>\n"
      ],
      "text/plain": [
       "/home/edge/dev/py/pyro/pyroml/metrics/tracker.py:117: MissingStepKeyWarning: No metric key Step.METRIC_TARGET in \n",
       "output, using Step.TARGET instead\n",
       "If your model is used for classification, you likely want to output a Step.METRIC_TARGET key as well.\n",
       "  \n"
      ]
     },
     "metadata": {},
     "output_type": "display_data"
    },
    {
     "data": {
      "text/html": [
       "<pre style=\"white-space:pre;overflow-x:auto;line-height:normal;font-family:Menlo,'DejaVu Sans Mono',consolas,'Courier New',monospace\">/home/edge/dev/py/pyro/pyroml/metrics/tracker.py:117: MissingStepKeyWarning: No metric key Step.METRIC_TARGET in \n",
       "output, using Step.TARGET instead\n",
       "If your model is used for classification, you likely want to output a Step.METRIC_TARGET key as well.\n",
       "  \n",
       "</pre>\n"
      ],
      "text/plain": [
       "/home/edge/dev/py/pyro/pyroml/metrics/tracker.py:117: MissingStepKeyWarning: No metric key Step.METRIC_TARGET in \n",
       "output, using Step.TARGET instead\n",
       "If your model is used for classification, you likely want to output a Step.METRIC_TARGET key as well.\n",
       "  \n"
      ]
     },
     "metadata": {},
     "output_type": "display_data"
    },
    {
     "data": {
      "text/html": [
       "<pre style=\"white-space:pre;overflow-x:auto;line-height:normal;font-family:Menlo,'DejaVu Sans Mono',consolas,'Courier New',monospace\">/home/edge/dev/py/pyro/pyroml/metrics/tracker.py:117: MissingStepKeyWarning: No metric key Step.METRIC_TARGET in \n",
       "output, using Step.TARGET instead\n",
       "If your model is used for classification, you likely want to output a Step.METRIC_TARGET key as well.\n",
       "  \n",
       "</pre>\n"
      ],
      "text/plain": [
       "/home/edge/dev/py/pyro/pyroml/metrics/tracker.py:117: MissingStepKeyWarning: No metric key Step.METRIC_TARGET in \n",
       "output, using Step.TARGET instead\n",
       "If your model is used for classification, you likely want to output a Step.METRIC_TARGET key as well.\n",
       "  \n"
      ]
     },
     "metadata": {},
     "output_type": "display_data"
    },
    {
     "data": {
      "text/html": [
       "<pre style=\"white-space:pre;overflow-x:auto;line-height:normal;font-family:Menlo,'DejaVu Sans Mono',consolas,'Courier New',monospace\">/home/edge/dev/py/pyro/pyroml/metrics/tracker.py:117: MissingStepKeyWarning: No metric key Step.METRIC_TARGET in \n",
       "output, using Step.TARGET instead\n",
       "If your model is used for classification, you likely want to output a Step.METRIC_TARGET key as well.\n",
       "  \n",
       "</pre>\n"
      ],
      "text/plain": [
       "/home/edge/dev/py/pyro/pyroml/metrics/tracker.py:117: MissingStepKeyWarning: No metric key Step.METRIC_TARGET in \n",
       "output, using Step.TARGET instead\n",
       "If your model is used for classification, you likely want to output a Step.METRIC_TARGET key as well.\n",
       "  \n"
      ]
     },
     "metadata": {},
     "output_type": "display_data"
    },
    {
     "data": {
      "text/html": [
       "<pre style=\"white-space:pre;overflow-x:auto;line-height:normal;font-family:Menlo,'DejaVu Sans Mono',consolas,'Courier New',monospace\">/home/edge/dev/py/pyro/pyroml/metrics/tracker.py:117: MissingStepKeyWarning: No metric key Step.METRIC_TARGET in \n",
       "output, using Step.TARGET instead\n",
       "If your model is used for classification, you likely want to output a Step.METRIC_TARGET key as well.\n",
       "  \n",
       "</pre>\n"
      ],
      "text/plain": [
       "/home/edge/dev/py/pyro/pyroml/metrics/tracker.py:117: MissingStepKeyWarning: No metric key Step.METRIC_TARGET in \n",
       "output, using Step.TARGET instead\n",
       "If your model is used for classification, you likely want to output a Step.METRIC_TARGET key as well.\n",
       "  \n"
      ]
     },
     "metadata": {},
     "output_type": "display_data"
    },
    {
     "data": {
      "text/html": [
       "<pre style=\"white-space:pre;overflow-x:auto;line-height:normal;font-family:Menlo,'DejaVu Sans Mono',consolas,'Courier New',monospace\">/home/edge/dev/py/pyro/pyroml/metrics/tracker.py:117: MissingStepKeyWarning: No metric key Step.METRIC_TARGET in \n",
       "output, using Step.TARGET instead\n",
       "If your model is used for classification, you likely want to output a Step.METRIC_TARGET key as well.\n",
       "  \n",
       "</pre>\n"
      ],
      "text/plain": [
       "/home/edge/dev/py/pyro/pyroml/metrics/tracker.py:117: MissingStepKeyWarning: No metric key Step.METRIC_TARGET in \n",
       "output, using Step.TARGET instead\n",
       "If your model is used for classification, you likely want to output a Step.METRIC_TARGET key as well.\n",
       "  \n"
      ]
     },
     "metadata": {},
     "output_type": "display_data"
    },
    {
     "data": {
      "text/html": [
       "<pre style=\"white-space:pre;overflow-x:auto;line-height:normal;font-family:Menlo,'DejaVu Sans Mono',consolas,'Courier New',monospace\">/home/edge/anaconda3/lib/python3.12/multiprocessing/popen_fork.py:66: DeprecationWarning: This process (pid=61888) \n",
       "is multi-threaded, use of fork() may lead to deadlocks in the child.\n",
       "  self.pid = os.fork()\n",
       "</pre>\n"
      ],
      "text/plain": [
       "/home/edge/anaconda3/lib/python3.12/multiprocessing/popen_fork.py:66: DeprecationWarning: This process (pid=61888) \n",
       "is multi-threaded, use of fork() may lead to deadlocks in the child.\n",
       "  self.pid = os.fork()\n"
      ]
     },
     "metadata": {},
     "output_type": "display_data"
    },
    {
     "data": {
      "text/html": [
       "<pre style=\"white-space:pre;overflow-x:auto;line-height:normal;font-family:Menlo,'DejaVu Sans Mono',consolas,'Courier New',monospace\">/home/edge/dev/py/pyro/pyroml/metrics/tracker.py:117: MissingStepKeyWarning: No metric key Step.METRIC_TARGET in \n",
       "output, using Step.TARGET instead\n",
       "If your model is used for classification, you likely want to output a Step.METRIC_TARGET key as well.\n",
       "  \n",
       "</pre>\n"
      ],
      "text/plain": [
       "/home/edge/dev/py/pyro/pyroml/metrics/tracker.py:117: MissingStepKeyWarning: No metric key Step.METRIC_TARGET in \n",
       "output, using Step.TARGET instead\n",
       "If your model is used for classification, you likely want to output a Step.METRIC_TARGET key as well.\n",
       "  \n"
      ]
     },
     "metadata": {},
     "output_type": "display_data"
    },
    {
     "data": {
      "text/html": [
       "<pre style=\"white-space:pre;overflow-x:auto;line-height:normal;font-family:Menlo,'DejaVu Sans Mono',consolas,'Courier New',monospace\">/home/edge/dev/py/pyro/pyroml/metrics/tracker.py:117: MissingStepKeyWarning: No metric key Step.METRIC_TARGET in \n",
       "output, using Step.TARGET instead\n",
       "If your model is used for classification, you likely want to output a Step.METRIC_TARGET key as well.\n",
       "  \n",
       "</pre>\n"
      ],
      "text/plain": [
       "/home/edge/dev/py/pyro/pyroml/metrics/tracker.py:117: MissingStepKeyWarning: No metric key Step.METRIC_TARGET in \n",
       "output, using Step.TARGET instead\n",
       "If your model is used for classification, you likely want to output a Step.METRIC_TARGET key as well.\n",
       "  \n"
      ]
     },
     "metadata": {},
     "output_type": "display_data"
    },
    {
     "data": {
      "text/html": [
       "<pre style=\"white-space:pre;overflow-x:auto;line-height:normal;font-family:Menlo,'DejaVu Sans Mono',consolas,'Courier New',monospace\">/home/edge/dev/py/pyro/pyroml/metrics/tracker.py:117: MissingStepKeyWarning: No metric key Step.METRIC_TARGET in \n",
       "output, using Step.TARGET instead\n",
       "If your model is used for classification, you likely want to output a Step.METRIC_TARGET key as well.\n",
       "  \n",
       "</pre>\n"
      ],
      "text/plain": [
       "/home/edge/dev/py/pyro/pyroml/metrics/tracker.py:117: MissingStepKeyWarning: No metric key Step.METRIC_TARGET in \n",
       "output, using Step.TARGET instead\n",
       "If your model is used for classification, you likely want to output a Step.METRIC_TARGET key as well.\n",
       "  \n"
      ]
     },
     "metadata": {},
     "output_type": "display_data"
    },
    {
     "data": {
      "text/html": [
       "<pre style=\"white-space:pre;overflow-x:auto;line-height:normal;font-family:Menlo,'DejaVu Sans Mono',consolas,'Courier New',monospace\">/home/edge/dev/py/pyro/pyroml/metrics/tracker.py:117: MissingStepKeyWarning: No metric key Step.METRIC_TARGET in \n",
       "output, using Step.TARGET instead\n",
       "If your model is used for classification, you likely want to output a Step.METRIC_TARGET key as well.\n",
       "  \n",
       "</pre>\n"
      ],
      "text/plain": [
       "/home/edge/dev/py/pyro/pyroml/metrics/tracker.py:117: MissingStepKeyWarning: No metric key Step.METRIC_TARGET in \n",
       "output, using Step.TARGET instead\n",
       "If your model is used for classification, you likely want to output a Step.METRIC_TARGET key as well.\n",
       "  \n"
      ]
     },
     "metadata": {},
     "output_type": "display_data"
    },
    {
     "data": {
      "text/html": [
       "<pre style=\"white-space:pre;overflow-x:auto;line-height:normal;font-family:Menlo,'DejaVu Sans Mono',consolas,'Courier New',monospace\">/home/edge/dev/py/pyro/pyroml/metrics/tracker.py:117: MissingStepKeyWarning: No metric key Step.METRIC_TARGET in \n",
       "output, using Step.TARGET instead\n",
       "If your model is used for classification, you likely want to output a Step.METRIC_TARGET key as well.\n",
       "  \n",
       "</pre>\n"
      ],
      "text/plain": [
       "/home/edge/dev/py/pyro/pyroml/metrics/tracker.py:117: MissingStepKeyWarning: No metric key Step.METRIC_TARGET in \n",
       "output, using Step.TARGET instead\n",
       "If your model is used for classification, you likely want to output a Step.METRIC_TARGET key as well.\n",
       "  \n"
      ]
     },
     "metadata": {},
     "output_type": "display_data"
    },
    {
     "data": {
      "text/html": [
       "<pre style=\"white-space:pre;overflow-x:auto;line-height:normal;font-family:Menlo,'DejaVu Sans Mono',consolas,'Courier New',monospace\">/home/edge/anaconda3/lib/python3.12/multiprocessing/popen_fork.py:66: DeprecationWarning: This process (pid=61888) \n",
       "is multi-threaded, use of fork() may lead to deadlocks in the child.\n",
       "  self.pid = os.fork()\n",
       "</pre>\n"
      ],
      "text/plain": [
       "/home/edge/anaconda3/lib/python3.12/multiprocessing/popen_fork.py:66: DeprecationWarning: This process (pid=61888) \n",
       "is multi-threaded, use of fork() may lead to deadlocks in the child.\n",
       "  self.pid = os.fork()\n"
      ]
     },
     "metadata": {},
     "output_type": "display_data"
    },
    {
     "data": {
      "text/html": [
       "<pre style=\"white-space:pre;overflow-x:auto;line-height:normal;font-family:Menlo,'DejaVu Sans Mono',consolas,'Courier New',monospace\">/home/edge/dev/py/pyro/.venv/lib/python3.12/site-packages/torchmetrics/utilities/prints.py:43: FutureWarning: The \n",
       "default value for `maximize` will be changed from `True` to `None` in v1.7.0 of TorchMetrics,will automatically \n",
       "infer the value based on the `higher_is_better` attribute of the metric (if such attribute exists) or raise an \n",
       "error if it does not. If you are explicitly setting the `maximize` argument to either `True` or `False` already, \n",
       "you can ignore this warning.\n",
       "  warnings.warn(*args, **kwargs)  # noqa: B028\n",
       "</pre>\n"
      ],
      "text/plain": [
       "/home/edge/dev/py/pyro/.venv/lib/python3.12/site-packages/torchmetrics/utilities/prints.py:43: FutureWarning: The \n",
       "default value for `maximize` will be changed from `True` to `None` in v1.7.0 of TorchMetrics,will automatically \n",
       "infer the value based on the `higher_is_better` attribute of the metric (if such attribute exists) or raise an \n",
       "error if it does not. If you are explicitly setting the `maximize` argument to either `True` or `False` already, \n",
       "you can ignore this warning.\n",
       "  warnings.warn(*args, **kwargs)  # noqa: B028\n"
      ]
     },
     "metadata": {},
     "output_type": "display_data"
    },
    {
     "data": {
      "text/html": [
       "<pre style=\"white-space:pre;overflow-x:auto;line-height:normal;font-family:Menlo,'DejaVu Sans Mono',consolas,'Courier New',monospace\">/home/edge/dev/py/pyro/pyroml/metrics/tracker.py:117: MissingStepKeyWarning: No metric key Step.METRIC_TARGET in \n",
       "output, using Step.TARGET instead\n",
       "If your model is used for classification, you likely want to output a Step.METRIC_TARGET key as well.\n",
       "  \n",
       "</pre>\n"
      ],
      "text/plain": [
       "/home/edge/dev/py/pyro/pyroml/metrics/tracker.py:117: MissingStepKeyWarning: No metric key Step.METRIC_TARGET in \n",
       "output, using Step.TARGET instead\n",
       "If your model is used for classification, you likely want to output a Step.METRIC_TARGET key as well.\n",
       "  \n"
      ]
     },
     "metadata": {},
     "output_type": "display_data"
    },
    {
     "data": {
      "text/html": [
       "<pre style=\"white-space:pre;overflow-x:auto;line-height:normal;font-family:Menlo,'DejaVu Sans Mono',consolas,'Courier New',monospace\">/home/edge/dev/py/pyro/pyroml/metrics/tracker.py:117: MissingStepKeyWarning: No metric key Step.METRIC_TARGET in \n",
       "output, using Step.TARGET instead\n",
       "If your model is used for classification, you likely want to output a Step.METRIC_TARGET key as well.\n",
       "  \n",
       "</pre>\n"
      ],
      "text/plain": [
       "/home/edge/dev/py/pyro/pyroml/metrics/tracker.py:117: MissingStepKeyWarning: No metric key Step.METRIC_TARGET in \n",
       "output, using Step.TARGET instead\n",
       "If your model is used for classification, you likely want to output a Step.METRIC_TARGET key as well.\n",
       "  \n"
      ]
     },
     "metadata": {},
     "output_type": "display_data"
    },
    {
     "data": {
      "text/html": [
       "<pre style=\"white-space:pre;overflow-x:auto;line-height:normal;font-family:Menlo,'DejaVu Sans Mono',consolas,'Courier New',monospace\">/home/edge/dev/py/pyro/pyroml/metrics/tracker.py:117: MissingStepKeyWarning: No metric key Step.METRIC_TARGET in \n",
       "output, using Step.TARGET instead\n",
       "If your model is used for classification, you likely want to output a Step.METRIC_TARGET key as well.\n",
       "  \n",
       "</pre>\n"
      ],
      "text/plain": [
       "/home/edge/dev/py/pyro/pyroml/metrics/tracker.py:117: MissingStepKeyWarning: No metric key Step.METRIC_TARGET in \n",
       "output, using Step.TARGET instead\n",
       "If your model is used for classification, you likely want to output a Step.METRIC_TARGET key as well.\n",
       "  \n"
      ]
     },
     "metadata": {},
     "output_type": "display_data"
    },
    {
     "data": {
      "text/html": [
       "<pre style=\"white-space:pre;overflow-x:auto;line-height:normal;font-family:Menlo,'DejaVu Sans Mono',consolas,'Courier New',monospace\">/home/edge/dev/py/pyro/pyroml/metrics/tracker.py:117: MissingStepKeyWarning: No metric key Step.METRIC_TARGET in \n",
       "output, using Step.TARGET instead\n",
       "If your model is used for classification, you likely want to output a Step.METRIC_TARGET key as well.\n",
       "  \n",
       "</pre>\n"
      ],
      "text/plain": [
       "/home/edge/dev/py/pyro/pyroml/metrics/tracker.py:117: MissingStepKeyWarning: No metric key Step.METRIC_TARGET in \n",
       "output, using Step.TARGET instead\n",
       "If your model is used for classification, you likely want to output a Step.METRIC_TARGET key as well.\n",
       "  \n"
      ]
     },
     "metadata": {},
     "output_type": "display_data"
    },
    {
     "data": {
      "text/html": [
       "<pre style=\"white-space:pre;overflow-x:auto;line-height:normal;font-family:Menlo,'DejaVu Sans Mono',consolas,'Courier New',monospace\">/home/edge/dev/py/pyro/pyroml/metrics/tracker.py:117: MissingStepKeyWarning: No metric key Step.METRIC_TARGET in \n",
       "output, using Step.TARGET instead\n",
       "If your model is used for classification, you likely want to output a Step.METRIC_TARGET key as well.\n",
       "  \n",
       "</pre>\n"
      ],
      "text/plain": [
       "/home/edge/dev/py/pyro/pyroml/metrics/tracker.py:117: MissingStepKeyWarning: No metric key Step.METRIC_TARGET in \n",
       "output, using Step.TARGET instead\n",
       "If your model is used for classification, you likely want to output a Step.METRIC_TARGET key as well.\n",
       "  \n"
      ]
     },
     "metadata": {},
     "output_type": "display_data"
    },
    {
     "data": {
      "text/html": [
       "<pre style=\"white-space:pre;overflow-x:auto;line-height:normal;font-family:Menlo,'DejaVu Sans Mono',consolas,'Courier New',monospace\">/home/edge/dev/py/pyro/pyroml/metrics/tracker.py:117: MissingStepKeyWarning: No metric key Step.METRIC_TARGET in \n",
       "output, using Step.TARGET instead\n",
       "If your model is used for classification, you likely want to output a Step.METRIC_TARGET key as well.\n",
       "  \n",
       "</pre>\n"
      ],
      "text/plain": [
       "/home/edge/dev/py/pyro/pyroml/metrics/tracker.py:117: MissingStepKeyWarning: No metric key Step.METRIC_TARGET in \n",
       "output, using Step.TARGET instead\n",
       "If your model is used for classification, you likely want to output a Step.METRIC_TARGET key as well.\n",
       "  \n"
      ]
     },
     "metadata": {},
     "output_type": "display_data"
    },
    {
     "data": {
      "text/html": [
       "<pre style=\"white-space:pre;overflow-x:auto;line-height:normal;font-family:Menlo,'DejaVu Sans Mono',consolas,'Courier New',monospace\">/home/edge/dev/py/pyro/pyroml/metrics/tracker.py:117: MissingStepKeyWarning: No metric key Step.METRIC_TARGET in \n",
       "output, using Step.TARGET instead\n",
       "If your model is used for classification, you likely want to output a Step.METRIC_TARGET key as well.\n",
       "  \n",
       "</pre>\n"
      ],
      "text/plain": [
       "/home/edge/dev/py/pyro/pyroml/metrics/tracker.py:117: MissingStepKeyWarning: No metric key Step.METRIC_TARGET in \n",
       "output, using Step.TARGET instead\n",
       "If your model is used for classification, you likely want to output a Step.METRIC_TARGET key as well.\n",
       "  \n"
      ]
     },
     "metadata": {},
     "output_type": "display_data"
    },
    {
     "data": {
      "text/html": [
       "<pre style=\"white-space:pre;overflow-x:auto;line-height:normal;font-family:Menlo,'DejaVu Sans Mono',consolas,'Courier New',monospace\">/home/edge/anaconda3/lib/python3.12/multiprocessing/popen_fork.py:66: DeprecationWarning: This process (pid=61888) \n",
       "is multi-threaded, use of fork() may lead to deadlocks in the child.\n",
       "  self.pid = os.fork()\n",
       "</pre>\n"
      ],
      "text/plain": [
       "/home/edge/anaconda3/lib/python3.12/multiprocessing/popen_fork.py:66: DeprecationWarning: This process (pid=61888) \n",
       "is multi-threaded, use of fork() may lead to deadlocks in the child.\n",
       "  self.pid = os.fork()\n"
      ]
     },
     "metadata": {},
     "output_type": "display_data"
    },
    {
     "data": {
      "text/html": [
       "<pre style=\"white-space:pre;overflow-x:auto;line-height:normal;font-family:Menlo,'DejaVu Sans Mono',consolas,'Courier New',monospace\">/home/edge/dev/py/pyro/pyroml/metrics/tracker.py:117: MissingStepKeyWarning: No metric key Step.METRIC_TARGET in \n",
       "output, using Step.TARGET instead\n",
       "If your model is used for classification, you likely want to output a Step.METRIC_TARGET key as well.\n",
       "  \n",
       "</pre>\n"
      ],
      "text/plain": [
       "/home/edge/dev/py/pyro/pyroml/metrics/tracker.py:117: MissingStepKeyWarning: No metric key Step.METRIC_TARGET in \n",
       "output, using Step.TARGET instead\n",
       "If your model is used for classification, you likely want to output a Step.METRIC_TARGET key as well.\n",
       "  \n"
      ]
     },
     "metadata": {},
     "output_type": "display_data"
    },
    {
     "data": {
      "text/html": [
       "<pre style=\"white-space:pre;overflow-x:auto;line-height:normal;font-family:Menlo,'DejaVu Sans Mono',consolas,'Courier New',monospace\">/home/edge/dev/py/pyro/pyroml/metrics/tracker.py:117: MissingStepKeyWarning: No metric key Step.METRIC_TARGET in \n",
       "output, using Step.TARGET instead\n",
       "If your model is used for classification, you likely want to output a Step.METRIC_TARGET key as well.\n",
       "  \n",
       "</pre>\n"
      ],
      "text/plain": [
       "/home/edge/dev/py/pyro/pyroml/metrics/tracker.py:117: MissingStepKeyWarning: No metric key Step.METRIC_TARGET in \n",
       "output, using Step.TARGET instead\n",
       "If your model is used for classification, you likely want to output a Step.METRIC_TARGET key as well.\n",
       "  \n"
      ]
     },
     "metadata": {},
     "output_type": "display_data"
    },
    {
     "data": {
      "text/html": [
       "<pre style=\"white-space:pre;overflow-x:auto;line-height:normal;font-family:Menlo,'DejaVu Sans Mono',consolas,'Courier New',monospace\">/home/edge/dev/py/pyro/pyroml/metrics/tracker.py:117: MissingStepKeyWarning: No metric key Step.METRIC_TARGET in \n",
       "output, using Step.TARGET instead\n",
       "If your model is used for classification, you likely want to output a Step.METRIC_TARGET key as well.\n",
       "  \n",
       "</pre>\n"
      ],
      "text/plain": [
       "/home/edge/dev/py/pyro/pyroml/metrics/tracker.py:117: MissingStepKeyWarning: No metric key Step.METRIC_TARGET in \n",
       "output, using Step.TARGET instead\n",
       "If your model is used for classification, you likely want to output a Step.METRIC_TARGET key as well.\n",
       "  \n"
      ]
     },
     "metadata": {},
     "output_type": "display_data"
    },
    {
     "data": {
      "text/html": [
       "<pre style=\"white-space:pre;overflow-x:auto;line-height:normal;font-family:Menlo,'DejaVu Sans Mono',consolas,'Courier New',monospace\">/home/edge/dev/py/pyro/pyroml/metrics/tracker.py:117: MissingStepKeyWarning: No metric key Step.METRIC_TARGET in \n",
       "output, using Step.TARGET instead\n",
       "If your model is used for classification, you likely want to output a Step.METRIC_TARGET key as well.\n",
       "  \n",
       "</pre>\n"
      ],
      "text/plain": [
       "/home/edge/dev/py/pyro/pyroml/metrics/tracker.py:117: MissingStepKeyWarning: No metric key Step.METRIC_TARGET in \n",
       "output, using Step.TARGET instead\n",
       "If your model is used for classification, you likely want to output a Step.METRIC_TARGET key as well.\n",
       "  \n"
      ]
     },
     "metadata": {},
     "output_type": "display_data"
    },
    {
     "data": {
      "text/html": [
       "<pre style=\"white-space:pre;overflow-x:auto;line-height:normal;font-family:Menlo,'DejaVu Sans Mono',consolas,'Courier New',monospace\">/home/edge/dev/py/pyro/pyroml/metrics/tracker.py:117: MissingStepKeyWarning: No metric key Step.METRIC_TARGET in \n",
       "output, using Step.TARGET instead\n",
       "If your model is used for classification, you likely want to output a Step.METRIC_TARGET key as well.\n",
       "  \n",
       "</pre>\n"
      ],
      "text/plain": [
       "/home/edge/dev/py/pyro/pyroml/metrics/tracker.py:117: MissingStepKeyWarning: No metric key Step.METRIC_TARGET in \n",
       "output, using Step.TARGET instead\n",
       "If your model is used for classification, you likely want to output a Step.METRIC_TARGET key as well.\n",
       "  \n"
      ]
     },
     "metadata": {},
     "output_type": "display_data"
    },
    {
     "data": {
      "text/html": [
       "<pre style=\"white-space:pre;overflow-x:auto;line-height:normal;font-family:Menlo,'DejaVu Sans Mono',consolas,'Courier New',monospace\">/home/edge/dev/py/pyro/pyroml/metrics/tracker.py:117: MissingStepKeyWarning: No metric key Step.METRIC_TARGET in \n",
       "output, using Step.TARGET instead\n",
       "If your model is used for classification, you likely want to output a Step.METRIC_TARGET key as well.\n",
       "  \n",
       "</pre>\n"
      ],
      "text/plain": [
       "/home/edge/dev/py/pyro/pyroml/metrics/tracker.py:117: MissingStepKeyWarning: No metric key Step.METRIC_TARGET in \n",
       "output, using Step.TARGET instead\n",
       "If your model is used for classification, you likely want to output a Step.METRIC_TARGET key as well.\n",
       "  \n"
      ]
     },
     "metadata": {},
     "output_type": "display_data"
    },
    {
     "data": {
      "text/html": [
       "<pre style=\"white-space:pre;overflow-x:auto;line-height:normal;font-family:Menlo,'DejaVu Sans Mono',consolas,'Courier New',monospace\">/home/edge/anaconda3/lib/python3.12/multiprocessing/popen_fork.py:66: DeprecationWarning: This process (pid=61888) \n",
       "is multi-threaded, use of fork() may lead to deadlocks in the child.\n",
       "  self.pid = os.fork()\n",
       "</pre>\n"
      ],
      "text/plain": [
       "/home/edge/anaconda3/lib/python3.12/multiprocessing/popen_fork.py:66: DeprecationWarning: This process (pid=61888) \n",
       "is multi-threaded, use of fork() may lead to deadlocks in the child.\n",
       "  self.pid = os.fork()\n"
      ]
     },
     "metadata": {},
     "output_type": "display_data"
    },
    {
     "data": {
      "text/html": [
       "<pre style=\"white-space:pre;overflow-x:auto;line-height:normal;font-family:Menlo,'DejaVu Sans Mono',consolas,'Courier New',monospace\">/home/edge/dev/py/pyro/.venv/lib/python3.12/site-packages/torchmetrics/utilities/prints.py:43: FutureWarning: The \n",
       "default value for `maximize` will be changed from `True` to `None` in v1.7.0 of TorchMetrics,will automatically \n",
       "infer the value based on the `higher_is_better` attribute of the metric (if such attribute exists) or raise an \n",
       "error if it does not. If you are explicitly setting the `maximize` argument to either `True` or `False` already, \n",
       "you can ignore this warning.\n",
       "  warnings.warn(*args, **kwargs)  # noqa: B028\n",
       "</pre>\n"
      ],
      "text/plain": [
       "/home/edge/dev/py/pyro/.venv/lib/python3.12/site-packages/torchmetrics/utilities/prints.py:43: FutureWarning: The \n",
       "default value for `maximize` will be changed from `True` to `None` in v1.7.0 of TorchMetrics,will automatically \n",
       "infer the value based on the `higher_is_better` attribute of the metric (if such attribute exists) or raise an \n",
       "error if it does not. If you are explicitly setting the `maximize` argument to either `True` or `False` already, \n",
       "you can ignore this warning.\n",
       "  warnings.warn(*args, **kwargs)  # noqa: B028\n"
      ]
     },
     "metadata": {},
     "output_type": "display_data"
    },
    {
     "data": {
      "text/html": [
       "<pre style=\"white-space:pre;overflow-x:auto;line-height:normal;font-family:Menlo,'DejaVu Sans Mono',consolas,'Courier New',monospace\">/home/edge/dev/py/pyro/pyroml/metrics/tracker.py:117: MissingStepKeyWarning: No metric key Step.METRIC_TARGET in \n",
       "output, using Step.TARGET instead\n",
       "If your model is used for classification, you likely want to output a Step.METRIC_TARGET key as well.\n",
       "  \n",
       "</pre>\n"
      ],
      "text/plain": [
       "/home/edge/dev/py/pyro/pyroml/metrics/tracker.py:117: MissingStepKeyWarning: No metric key Step.METRIC_TARGET in \n",
       "output, using Step.TARGET instead\n",
       "If your model is used for classification, you likely want to output a Step.METRIC_TARGET key as well.\n",
       "  \n"
      ]
     },
     "metadata": {},
     "output_type": "display_data"
    },
    {
     "data": {
      "text/html": [
       "<pre style=\"white-space:pre;overflow-x:auto;line-height:normal;font-family:Menlo,'DejaVu Sans Mono',consolas,'Courier New',monospace\">/home/edge/dev/py/pyro/pyroml/metrics/tracker.py:117: MissingStepKeyWarning: No metric key Step.METRIC_TARGET in \n",
       "output, using Step.TARGET instead\n",
       "If your model is used for classification, you likely want to output a Step.METRIC_TARGET key as well.\n",
       "  \n",
       "</pre>\n"
      ],
      "text/plain": [
       "/home/edge/dev/py/pyro/pyroml/metrics/tracker.py:117: MissingStepKeyWarning: No metric key Step.METRIC_TARGET in \n",
       "output, using Step.TARGET instead\n",
       "If your model is used for classification, you likely want to output a Step.METRIC_TARGET key as well.\n",
       "  \n"
      ]
     },
     "metadata": {},
     "output_type": "display_data"
    },
    {
     "data": {
      "text/html": [
       "<pre style=\"white-space:pre;overflow-x:auto;line-height:normal;font-family:Menlo,'DejaVu Sans Mono',consolas,'Courier New',monospace\">/home/edge/dev/py/pyro/pyroml/metrics/tracker.py:117: MissingStepKeyWarning: No metric key Step.METRIC_TARGET in \n",
       "output, using Step.TARGET instead\n",
       "If your model is used for classification, you likely want to output a Step.METRIC_TARGET key as well.\n",
       "  \n",
       "</pre>\n"
      ],
      "text/plain": [
       "/home/edge/dev/py/pyro/pyroml/metrics/tracker.py:117: MissingStepKeyWarning: No metric key Step.METRIC_TARGET in \n",
       "output, using Step.TARGET instead\n",
       "If your model is used for classification, you likely want to output a Step.METRIC_TARGET key as well.\n",
       "  \n"
      ]
     },
     "metadata": {},
     "output_type": "display_data"
    },
    {
     "data": {
      "text/html": [
       "<pre style=\"white-space:pre;overflow-x:auto;line-height:normal;font-family:Menlo,'DejaVu Sans Mono',consolas,'Courier New',monospace\">/home/edge/dev/py/pyro/pyroml/metrics/tracker.py:117: MissingStepKeyWarning: No metric key Step.METRIC_TARGET in \n",
       "output, using Step.TARGET instead\n",
       "If your model is used for classification, you likely want to output a Step.METRIC_TARGET key as well.\n",
       "  \n",
       "</pre>\n"
      ],
      "text/plain": [
       "/home/edge/dev/py/pyro/pyroml/metrics/tracker.py:117: MissingStepKeyWarning: No metric key Step.METRIC_TARGET in \n",
       "output, using Step.TARGET instead\n",
       "If your model is used for classification, you likely want to output a Step.METRIC_TARGET key as well.\n",
       "  \n"
      ]
     },
     "metadata": {},
     "output_type": "display_data"
    },
    {
     "data": {
      "text/html": [
       "<pre style=\"white-space:pre;overflow-x:auto;line-height:normal;font-family:Menlo,'DejaVu Sans Mono',consolas,'Courier New',monospace\">/home/edge/dev/py/pyro/pyroml/metrics/tracker.py:117: MissingStepKeyWarning: No metric key Step.METRIC_TARGET in \n",
       "output, using Step.TARGET instead\n",
       "If your model is used for classification, you likely want to output a Step.METRIC_TARGET key as well.\n",
       "  \n",
       "</pre>\n"
      ],
      "text/plain": [
       "/home/edge/dev/py/pyro/pyroml/metrics/tracker.py:117: MissingStepKeyWarning: No metric key Step.METRIC_TARGET in \n",
       "output, using Step.TARGET instead\n",
       "If your model is used for classification, you likely want to output a Step.METRIC_TARGET key as well.\n",
       "  \n"
      ]
     },
     "metadata": {},
     "output_type": "display_data"
    },
    {
     "data": {
      "text/html": [
       "<pre style=\"white-space:pre;overflow-x:auto;line-height:normal;font-family:Menlo,'DejaVu Sans Mono',consolas,'Courier New',monospace\">/home/edge/dev/py/pyro/pyroml/metrics/tracker.py:117: MissingStepKeyWarning: No metric key Step.METRIC_TARGET in \n",
       "output, using Step.TARGET instead\n",
       "If your model is used for classification, you likely want to output a Step.METRIC_TARGET key as well.\n",
       "  \n",
       "</pre>\n"
      ],
      "text/plain": [
       "/home/edge/dev/py/pyro/pyroml/metrics/tracker.py:117: MissingStepKeyWarning: No metric key Step.METRIC_TARGET in \n",
       "output, using Step.TARGET instead\n",
       "If your model is used for classification, you likely want to output a Step.METRIC_TARGET key as well.\n",
       "  \n"
      ]
     },
     "metadata": {},
     "output_type": "display_data"
    },
    {
     "data": {
      "text/html": [
       "<pre style=\"white-space:pre;overflow-x:auto;line-height:normal;font-family:Menlo,'DejaVu Sans Mono',consolas,'Courier New',monospace\">/home/edge/dev/py/pyro/pyroml/metrics/tracker.py:117: MissingStepKeyWarning: No metric key Step.METRIC_TARGET in \n",
       "output, using Step.TARGET instead\n",
       "If your model is used for classification, you likely want to output a Step.METRIC_TARGET key as well.\n",
       "  \n",
       "</pre>\n"
      ],
      "text/plain": [
       "/home/edge/dev/py/pyro/pyroml/metrics/tracker.py:117: MissingStepKeyWarning: No metric key Step.METRIC_TARGET in \n",
       "output, using Step.TARGET instead\n",
       "If your model is used for classification, you likely want to output a Step.METRIC_TARGET key as well.\n",
       "  \n"
      ]
     },
     "metadata": {},
     "output_type": "display_data"
    },
    {
     "data": {
      "text/html": [
       "<pre style=\"white-space:pre;overflow-x:auto;line-height:normal;font-family:Menlo,'DejaVu Sans Mono',consolas,'Courier New',monospace\">/home/edge/anaconda3/lib/python3.12/multiprocessing/popen_fork.py:66: DeprecationWarning: This process (pid=61888) \n",
       "is multi-threaded, use of fork() may lead to deadlocks in the child.\n",
       "  self.pid = os.fork()\n",
       "</pre>\n"
      ],
      "text/plain": [
       "/home/edge/anaconda3/lib/python3.12/multiprocessing/popen_fork.py:66: DeprecationWarning: This process (pid=61888) \n",
       "is multi-threaded, use of fork() may lead to deadlocks in the child.\n",
       "  self.pid = os.fork()\n"
      ]
     },
     "metadata": {},
     "output_type": "display_data"
    },
    {
     "data": {
      "text/html": [
       "<pre style=\"white-space:pre;overflow-x:auto;line-height:normal;font-family:Menlo,'DejaVu Sans Mono',consolas,'Courier New',monospace\">/home/edge/dev/py/pyro/pyroml/metrics/tracker.py:117: MissingStepKeyWarning: No metric key Step.METRIC_TARGET in \n",
       "output, using Step.TARGET instead\n",
       "If your model is used for classification, you likely want to output a Step.METRIC_TARGET key as well.\n",
       "  \n",
       "</pre>\n"
      ],
      "text/plain": [
       "/home/edge/dev/py/pyro/pyroml/metrics/tracker.py:117: MissingStepKeyWarning: No metric key Step.METRIC_TARGET in \n",
       "output, using Step.TARGET instead\n",
       "If your model is used for classification, you likely want to output a Step.METRIC_TARGET key as well.\n",
       "  \n"
      ]
     },
     "metadata": {},
     "output_type": "display_data"
    },
    {
     "data": {
      "text/html": [
       "<pre style=\"white-space:pre;overflow-x:auto;line-height:normal;font-family:Menlo,'DejaVu Sans Mono',consolas,'Courier New',monospace\">/home/edge/dev/py/pyro/pyroml/metrics/tracker.py:117: MissingStepKeyWarning: No metric key Step.METRIC_TARGET in \n",
       "output, using Step.TARGET instead\n",
       "If your model is used for classification, you likely want to output a Step.METRIC_TARGET key as well.\n",
       "  \n",
       "</pre>\n"
      ],
      "text/plain": [
       "/home/edge/dev/py/pyro/pyroml/metrics/tracker.py:117: MissingStepKeyWarning: No metric key Step.METRIC_TARGET in \n",
       "output, using Step.TARGET instead\n",
       "If your model is used for classification, you likely want to output a Step.METRIC_TARGET key as well.\n",
       "  \n"
      ]
     },
     "metadata": {},
     "output_type": "display_data"
    },
    {
     "data": {
      "text/html": [
       "<pre style=\"white-space:pre;overflow-x:auto;line-height:normal;font-family:Menlo,'DejaVu Sans Mono',consolas,'Courier New',monospace\">/home/edge/dev/py/pyro/pyroml/metrics/tracker.py:117: MissingStepKeyWarning: No metric key Step.METRIC_TARGET in \n",
       "output, using Step.TARGET instead\n",
       "If your model is used for classification, you likely want to output a Step.METRIC_TARGET key as well.\n",
       "  \n",
       "</pre>\n"
      ],
      "text/plain": [
       "/home/edge/dev/py/pyro/pyroml/metrics/tracker.py:117: MissingStepKeyWarning: No metric key Step.METRIC_TARGET in \n",
       "output, using Step.TARGET instead\n",
       "If your model is used for classification, you likely want to output a Step.METRIC_TARGET key as well.\n",
       "  \n"
      ]
     },
     "metadata": {},
     "output_type": "display_data"
    },
    {
     "data": {
      "text/html": [
       "<pre style=\"white-space:pre;overflow-x:auto;line-height:normal;font-family:Menlo,'DejaVu Sans Mono',consolas,'Courier New',monospace\">/home/edge/dev/py/pyro/pyroml/metrics/tracker.py:117: MissingStepKeyWarning: No metric key Step.METRIC_TARGET in \n",
       "output, using Step.TARGET instead\n",
       "If your model is used for classification, you likely want to output a Step.METRIC_TARGET key as well.\n",
       "  \n",
       "</pre>\n"
      ],
      "text/plain": [
       "/home/edge/dev/py/pyro/pyroml/metrics/tracker.py:117: MissingStepKeyWarning: No metric key Step.METRIC_TARGET in \n",
       "output, using Step.TARGET instead\n",
       "If your model is used for classification, you likely want to output a Step.METRIC_TARGET key as well.\n",
       "  \n"
      ]
     },
     "metadata": {},
     "output_type": "display_data"
    },
    {
     "data": {
      "text/html": [
       "<pre style=\"white-space:pre;overflow-x:auto;line-height:normal;font-family:Menlo,'DejaVu Sans Mono',consolas,'Courier New',monospace\">/home/edge/dev/py/pyro/pyroml/metrics/tracker.py:117: MissingStepKeyWarning: No metric key Step.METRIC_TARGET in \n",
       "output, using Step.TARGET instead\n",
       "If your model is used for classification, you likely want to output a Step.METRIC_TARGET key as well.\n",
       "  \n",
       "</pre>\n"
      ],
      "text/plain": [
       "/home/edge/dev/py/pyro/pyroml/metrics/tracker.py:117: MissingStepKeyWarning: No metric key Step.METRIC_TARGET in \n",
       "output, using Step.TARGET instead\n",
       "If your model is used for classification, you likely want to output a Step.METRIC_TARGET key as well.\n",
       "  \n"
      ]
     },
     "metadata": {},
     "output_type": "display_data"
    },
    {
     "data": {
      "text/html": [
       "<pre style=\"white-space:pre;overflow-x:auto;line-height:normal;font-family:Menlo,'DejaVu Sans Mono',consolas,'Courier New',monospace\">/home/edge/dev/py/pyro/.venv/lib/python3.12/site-packages/torchmetrics/utilities/prints.py:43: FutureWarning: The \n",
       "default value for `maximize` will be changed from `True` to `None` in v1.7.0 of TorchMetrics,will automatically \n",
       "infer the value based on the `higher_is_better` attribute of the metric (if such attribute exists) or raise an \n",
       "error if it does not. If you are explicitly setting the `maximize` argument to either `True` or `False` already, \n",
       "you can ignore this warning.\n",
       "  warnings.warn(*args, **kwargs)  # noqa: B028\n",
       "</pre>\n"
      ],
      "text/plain": [
       "/home/edge/dev/py/pyro/.venv/lib/python3.12/site-packages/torchmetrics/utilities/prints.py:43: FutureWarning: The \n",
       "default value for `maximize` will be changed from `True` to `None` in v1.7.0 of TorchMetrics,will automatically \n",
       "infer the value based on the `higher_is_better` attribute of the metric (if such attribute exists) or raise an \n",
       "error if it does not. If you are explicitly setting the `maximize` argument to either `True` or `False` already, \n",
       "you can ignore this warning.\n",
       "  warnings.warn(*args, **kwargs)  # noqa: B028\n"
      ]
     },
     "metadata": {},
     "output_type": "display_data"
    },
    {
     "data": {
      "text/html": [
       "<pre style=\"white-space:pre;overflow-x:auto;line-height:normal;font-family:Menlo,'DejaVu Sans Mono',consolas,'Courier New',monospace\">/home/edge/dev/py/pyro/pyroml/metrics/tracker.py:117: MissingStepKeyWarning: No metric key Step.METRIC_TARGET in \n",
       "output, using Step.TARGET instead\n",
       "If your model is used for classification, you likely want to output a Step.METRIC_TARGET key as well.\n",
       "  \n",
       "</pre>\n"
      ],
      "text/plain": [
       "/home/edge/dev/py/pyro/pyroml/metrics/tracker.py:117: MissingStepKeyWarning: No metric key Step.METRIC_TARGET in \n",
       "output, using Step.TARGET instead\n",
       "If your model is used for classification, you likely want to output a Step.METRIC_TARGET key as well.\n",
       "  \n"
      ]
     },
     "metadata": {},
     "output_type": "display_data"
    },
    {
     "data": {
      "text/html": [
       "<pre style=\"white-space:pre;overflow-x:auto;line-height:normal;font-family:Menlo,'DejaVu Sans Mono',consolas,'Courier New',monospace\">/home/edge/dev/py/pyro/pyroml/metrics/tracker.py:117: MissingStepKeyWarning: No metric key Step.METRIC_TARGET in \n",
       "output, using Step.TARGET instead\n",
       "If your model is used for classification, you likely want to output a Step.METRIC_TARGET key as well.\n",
       "  \n",
       "</pre>\n"
      ],
      "text/plain": [
       "/home/edge/dev/py/pyro/pyroml/metrics/tracker.py:117: MissingStepKeyWarning: No metric key Step.METRIC_TARGET in \n",
       "output, using Step.TARGET instead\n",
       "If your model is used for classification, you likely want to output a Step.METRIC_TARGET key as well.\n",
       "  \n"
      ]
     },
     "metadata": {},
     "output_type": "display_data"
    },
    {
     "data": {
      "text/html": [
       "<pre style=\"white-space:pre;overflow-x:auto;line-height:normal;font-family:Menlo,'DejaVu Sans Mono',consolas,'Courier New',monospace\">/home/edge/dev/py/pyro/pyroml/metrics/tracker.py:117: MissingStepKeyWarning: No metric key Step.METRIC_TARGET in \n",
       "output, using Step.TARGET instead\n",
       "If your model is used for classification, you likely want to output a Step.METRIC_TARGET key as well.\n",
       "  \n",
       "</pre>\n"
      ],
      "text/plain": [
       "/home/edge/dev/py/pyro/pyroml/metrics/tracker.py:117: MissingStepKeyWarning: No metric key Step.METRIC_TARGET in \n",
       "output, using Step.TARGET instead\n",
       "If your model is used for classification, you likely want to output a Step.METRIC_TARGET key as well.\n",
       "  \n"
      ]
     },
     "metadata": {},
     "output_type": "display_data"
    },
    {
     "data": {
      "text/html": [
       "<pre style=\"white-space:pre;overflow-x:auto;line-height:normal;font-family:Menlo,'DejaVu Sans Mono',consolas,'Courier New',monospace\">/home/edge/dev/py/pyro/pyroml/metrics/tracker.py:117: MissingStepKeyWarning: No metric key Step.METRIC_TARGET in \n",
       "output, using Step.TARGET instead\n",
       "If your model is used for classification, you likely want to output a Step.METRIC_TARGET key as well.\n",
       "  \n",
       "</pre>\n"
      ],
      "text/plain": [
       "/home/edge/dev/py/pyro/pyroml/metrics/tracker.py:117: MissingStepKeyWarning: No metric key Step.METRIC_TARGET in \n",
       "output, using Step.TARGET instead\n",
       "If your model is used for classification, you likely want to output a Step.METRIC_TARGET key as well.\n",
       "  \n"
      ]
     },
     "metadata": {},
     "output_type": "display_data"
    },
    {
     "data": {
      "text/html": [
       "<pre style=\"white-space:pre;overflow-x:auto;line-height:normal;font-family:Menlo,'DejaVu Sans Mono',consolas,'Courier New',monospace\">/home/edge/dev/py/pyro/pyroml/metrics/tracker.py:117: MissingStepKeyWarning: No metric key Step.METRIC_TARGET in \n",
       "output, using Step.TARGET instead\n",
       "If your model is used for classification, you likely want to output a Step.METRIC_TARGET key as well.\n",
       "  \n",
       "</pre>\n"
      ],
      "text/plain": [
       "/home/edge/dev/py/pyro/pyroml/metrics/tracker.py:117: MissingStepKeyWarning: No metric key Step.METRIC_TARGET in \n",
       "output, using Step.TARGET instead\n",
       "If your model is used for classification, you likely want to output a Step.METRIC_TARGET key as well.\n",
       "  \n"
      ]
     },
     "metadata": {},
     "output_type": "display_data"
    },
    {
     "data": {
      "text/html": [
       "<pre style=\"white-space:pre;overflow-x:auto;line-height:normal;font-family:Menlo,'DejaVu Sans Mono',consolas,'Courier New',monospace\">/home/edge/dev/py/pyro/pyroml/metrics/tracker.py:117: MissingStepKeyWarning: No metric key Step.METRIC_TARGET in \n",
       "output, using Step.TARGET instead\n",
       "If your model is used for classification, you likely want to output a Step.METRIC_TARGET key as well.\n",
       "  \n",
       "</pre>\n"
      ],
      "text/plain": [
       "/home/edge/dev/py/pyro/pyroml/metrics/tracker.py:117: MissingStepKeyWarning: No metric key Step.METRIC_TARGET in \n",
       "output, using Step.TARGET instead\n",
       "If your model is used for classification, you likely want to output a Step.METRIC_TARGET key as well.\n",
       "  \n"
      ]
     },
     "metadata": {},
     "output_type": "display_data"
    },
    {
     "data": {
      "text/html": [
       "<pre style=\"white-space:pre;overflow-x:auto;line-height:normal;font-family:Menlo,'DejaVu Sans Mono',consolas,'Courier New',monospace\">/home/edge/dev/py/pyro/pyroml/metrics/tracker.py:117: MissingStepKeyWarning: No metric key Step.METRIC_TARGET in \n",
       "output, using Step.TARGET instead\n",
       "If your model is used for classification, you likely want to output a Step.METRIC_TARGET key as well.\n",
       "  \n",
       "</pre>\n"
      ],
      "text/plain": [
       "/home/edge/dev/py/pyro/pyroml/metrics/tracker.py:117: MissingStepKeyWarning: No metric key Step.METRIC_TARGET in \n",
       "output, using Step.TARGET instead\n",
       "If your model is used for classification, you likely want to output a Step.METRIC_TARGET key as well.\n",
       "  \n"
      ]
     },
     "metadata": {},
     "output_type": "display_data"
    },
    {
     "data": {
      "text/html": [
       "<pre style=\"white-space:pre;overflow-x:auto;line-height:normal;font-family:Menlo,'DejaVu Sans Mono',consolas,'Courier New',monospace\">/home/edge/dev/py/pyro/pyroml/metrics/tracker.py:117: MissingStepKeyWarning: No metric key Step.METRIC_TARGET in \n",
       "output, using Step.TARGET instead\n",
       "If your model is used for classification, you likely want to output a Step.METRIC_TARGET key as well.\n",
       "  \n",
       "</pre>\n"
      ],
      "text/plain": [
       "/home/edge/dev/py/pyro/pyroml/metrics/tracker.py:117: MissingStepKeyWarning: No metric key Step.METRIC_TARGET in \n",
       "output, using Step.TARGET instead\n",
       "If your model is used for classification, you likely want to output a Step.METRIC_TARGET key as well.\n",
       "  \n"
      ]
     },
     "metadata": {},
     "output_type": "display_data"
    },
    {
     "data": {
      "text/html": [
       "<pre style=\"white-space:pre;overflow-x:auto;line-height:normal;font-family:Menlo,'DejaVu Sans Mono',consolas,'Courier New',monospace\">/home/edge/dev/py/pyro/pyroml/metrics/tracker.py:117: MissingStepKeyWarning: No metric key Step.METRIC_TARGET in \n",
       "output, using Step.TARGET instead\n",
       "If your model is used for classification, you likely want to output a Step.METRIC_TARGET key as well.\n",
       "  \n",
       "</pre>\n"
      ],
      "text/plain": [
       "/home/edge/dev/py/pyro/pyroml/metrics/tracker.py:117: MissingStepKeyWarning: No metric key Step.METRIC_TARGET in \n",
       "output, using Step.TARGET instead\n",
       "If your model is used for classification, you likely want to output a Step.METRIC_TARGET key as well.\n",
       "  \n"
      ]
     },
     "metadata": {},
     "output_type": "display_data"
    },
    {
     "data": {
      "text/html": [
       "<pre style=\"white-space:pre;overflow-x:auto;line-height:normal;font-family:Menlo,'DejaVu Sans Mono',consolas,'Courier New',monospace\">/home/edge/dev/py/pyro/pyroml/metrics/tracker.py:117: MissingStepKeyWarning: No metric key Step.METRIC_TARGET in \n",
       "output, using Step.TARGET instead\n",
       "If your model is used for classification, you likely want to output a Step.METRIC_TARGET key as well.\n",
       "  \n",
       "</pre>\n"
      ],
      "text/plain": [
       "/home/edge/dev/py/pyro/pyroml/metrics/tracker.py:117: MissingStepKeyWarning: No metric key Step.METRIC_TARGET in \n",
       "output, using Step.TARGET instead\n",
       "If your model is used for classification, you likely want to output a Step.METRIC_TARGET key as well.\n",
       "  \n"
      ]
     },
     "metadata": {},
     "output_type": "display_data"
    },
    {
     "data": {
      "text/html": [
       "<pre style=\"white-space:pre;overflow-x:auto;line-height:normal;font-family:Menlo,'DejaVu Sans Mono',consolas,'Courier New',monospace\">/home/edge/dev/py/pyro/pyroml/metrics/tracker.py:117: MissingStepKeyWarning: No metric key Step.METRIC_TARGET in \n",
       "output, using Step.TARGET instead\n",
       "If your model is used for classification, you likely want to output a Step.METRIC_TARGET key as well.\n",
       "  \n",
       "</pre>\n"
      ],
      "text/plain": [
       "/home/edge/dev/py/pyro/pyroml/metrics/tracker.py:117: MissingStepKeyWarning: No metric key Step.METRIC_TARGET in \n",
       "output, using Step.TARGET instead\n",
       "If your model is used for classification, you likely want to output a Step.METRIC_TARGET key as well.\n",
       "  \n"
      ]
     },
     "metadata": {},
     "output_type": "display_data"
    },
    {
     "data": {
      "text/html": [
       "<pre style=\"white-space:pre;overflow-x:auto;line-height:normal;font-family:Menlo,'DejaVu Sans Mono',consolas,'Courier New',monospace\">/home/edge/dev/py/pyro/pyroml/metrics/tracker.py:117: MissingStepKeyWarning: No metric key Step.METRIC_TARGET in \n",
       "output, using Step.TARGET instead\n",
       "If your model is used for classification, you likely want to output a Step.METRIC_TARGET key as well.\n",
       "  \n",
       "</pre>\n"
      ],
      "text/plain": [
       "/home/edge/dev/py/pyro/pyroml/metrics/tracker.py:117: MissingStepKeyWarning: No metric key Step.METRIC_TARGET in \n",
       "output, using Step.TARGET instead\n",
       "If your model is used for classification, you likely want to output a Step.METRIC_TARGET key as well.\n",
       "  \n"
      ]
     },
     "metadata": {},
     "output_type": "display_data"
    },
    {
     "data": {
      "text/html": [
       "<pre style=\"white-space:pre;overflow-x:auto;line-height:normal;font-family:Menlo,'DejaVu Sans Mono',consolas,'Courier New',monospace\">/home/edge/dev/py/pyro/pyroml/metrics/tracker.py:117: MissingStepKeyWarning: No metric key Step.METRIC_TARGET in \n",
       "output, using Step.TARGET instead\n",
       "If your model is used for classification, you likely want to output a Step.METRIC_TARGET key as well.\n",
       "  \n",
       "</pre>\n"
      ],
      "text/plain": [
       "/home/edge/dev/py/pyro/pyroml/metrics/tracker.py:117: MissingStepKeyWarning: No metric key Step.METRIC_TARGET in \n",
       "output, using Step.TARGET instead\n",
       "If your model is used for classification, you likely want to output a Step.METRIC_TARGET key as well.\n",
       "  \n"
      ]
     },
     "metadata": {},
     "output_type": "display_data"
    },
    {
     "data": {
      "text/html": [
       "<pre style=\"white-space:pre;overflow-x:auto;line-height:normal;font-family:Menlo,'DejaVu Sans Mono',consolas,'Courier New',monospace\">/home/edge/anaconda3/lib/python3.12/multiprocessing/popen_fork.py:66: DeprecationWarning: This process (pid=61888) \n",
       "is multi-threaded, use of fork() may lead to deadlocks in the child.\n",
       "  self.pid = os.fork()\n",
       "</pre>\n"
      ],
      "text/plain": [
       "/home/edge/anaconda3/lib/python3.12/multiprocessing/popen_fork.py:66: DeprecationWarning: This process (pid=61888) \n",
       "is multi-threaded, use of fork() may lead to deadlocks in the child.\n",
       "  self.pid = os.fork()\n"
      ]
     },
     "metadata": {},
     "output_type": "display_data"
    },
    {
     "data": {
      "text/html": [
       "<pre style=\"white-space:pre;overflow-x:auto;line-height:normal;font-family:Menlo,'DejaVu Sans Mono',consolas,'Courier New',monospace\">/home/edge/dev/py/pyro/.venv/lib/python3.12/site-packages/torchmetrics/utilities/prints.py:43: FutureWarning: The \n",
       "default value for `maximize` will be changed from `True` to `None` in v1.7.0 of TorchMetrics,will automatically \n",
       "infer the value based on the `higher_is_better` attribute of the metric (if such attribute exists) or raise an \n",
       "error if it does not. If you are explicitly setting the `maximize` argument to either `True` or `False` already, \n",
       "you can ignore this warning.\n",
       "  warnings.warn(*args, **kwargs)  # noqa: B028\n",
       "</pre>\n"
      ],
      "text/plain": [
       "/home/edge/dev/py/pyro/.venv/lib/python3.12/site-packages/torchmetrics/utilities/prints.py:43: FutureWarning: The \n",
       "default value for `maximize` will be changed from `True` to `None` in v1.7.0 of TorchMetrics,will automatically \n",
       "infer the value based on the `higher_is_better` attribute of the metric (if such attribute exists) or raise an \n",
       "error if it does not. If you are explicitly setting the `maximize` argument to either `True` or `False` already, \n",
       "you can ignore this warning.\n",
       "  warnings.warn(*args, **kwargs)  # noqa: B028\n"
      ]
     },
     "metadata": {},
     "output_type": "display_data"
    },
    {
     "data": {
      "text/html": [
       "<pre style=\"white-space:pre;overflow-x:auto;line-height:normal;font-family:Menlo,'DejaVu Sans Mono',consolas,'Courier New',monospace\">/home/edge/dev/py/pyro/pyroml/metrics/tracker.py:117: MissingStepKeyWarning: No metric key Step.METRIC_TARGET in \n",
       "output, using Step.TARGET instead\n",
       "If your model is used for classification, you likely want to output a Step.METRIC_TARGET key as well.\n",
       "  \n",
       "</pre>\n"
      ],
      "text/plain": [
       "/home/edge/dev/py/pyro/pyroml/metrics/tracker.py:117: MissingStepKeyWarning: No metric key Step.METRIC_TARGET in \n",
       "output, using Step.TARGET instead\n",
       "If your model is used for classification, you likely want to output a Step.METRIC_TARGET key as well.\n",
       "  \n"
      ]
     },
     "metadata": {},
     "output_type": "display_data"
    },
    {
     "data": {
      "text/html": [
       "<pre style=\"white-space:pre;overflow-x:auto;line-height:normal;font-family:Menlo,'DejaVu Sans Mono',consolas,'Courier New',monospace\">/home/edge/dev/py/pyro/pyroml/metrics/tracker.py:117: MissingStepKeyWarning: No metric key Step.METRIC_TARGET in \n",
       "output, using Step.TARGET instead\n",
       "If your model is used for classification, you likely want to output a Step.METRIC_TARGET key as well.\n",
       "  \n",
       "</pre>\n"
      ],
      "text/plain": [
       "/home/edge/dev/py/pyro/pyroml/metrics/tracker.py:117: MissingStepKeyWarning: No metric key Step.METRIC_TARGET in \n",
       "output, using Step.TARGET instead\n",
       "If your model is used for classification, you likely want to output a Step.METRIC_TARGET key as well.\n",
       "  \n"
      ]
     },
     "metadata": {},
     "output_type": "display_data"
    },
    {
     "data": {
      "text/html": [
       "<pre style=\"white-space:pre;overflow-x:auto;line-height:normal;font-family:Menlo,'DejaVu Sans Mono',consolas,'Courier New',monospace\">/home/edge/dev/py/pyro/pyroml/metrics/tracker.py:117: MissingStepKeyWarning: No metric key Step.METRIC_TARGET in \n",
       "output, using Step.TARGET instead\n",
       "If your model is used for classification, you likely want to output a Step.METRIC_TARGET key as well.\n",
       "  \n",
       "</pre>\n"
      ],
      "text/plain": [
       "/home/edge/dev/py/pyro/pyroml/metrics/tracker.py:117: MissingStepKeyWarning: No metric key Step.METRIC_TARGET in \n",
       "output, using Step.TARGET instead\n",
       "If your model is used for classification, you likely want to output a Step.METRIC_TARGET key as well.\n",
       "  \n"
      ]
     },
     "metadata": {},
     "output_type": "display_data"
    },
    {
     "data": {
      "text/html": [
       "<pre style=\"white-space:pre;overflow-x:auto;line-height:normal;font-family:Menlo,'DejaVu Sans Mono',consolas,'Courier New',monospace\">/home/edge/dev/py/pyro/pyroml/metrics/tracker.py:117: MissingStepKeyWarning: No metric key Step.METRIC_TARGET in \n",
       "output, using Step.TARGET instead\n",
       "If your model is used for classification, you likely want to output a Step.METRIC_TARGET key as well.\n",
       "  \n",
       "</pre>\n"
      ],
      "text/plain": [
       "/home/edge/dev/py/pyro/pyroml/metrics/tracker.py:117: MissingStepKeyWarning: No metric key Step.METRIC_TARGET in \n",
       "output, using Step.TARGET instead\n",
       "If your model is used for classification, you likely want to output a Step.METRIC_TARGET key as well.\n",
       "  \n"
      ]
     },
     "metadata": {},
     "output_type": "display_data"
    },
    {
     "data": {
      "text/html": [
       "<pre style=\"white-space:pre;overflow-x:auto;line-height:normal;font-family:Menlo,'DejaVu Sans Mono',consolas,'Courier New',monospace\">/home/edge/dev/py/pyro/pyroml/metrics/tracker.py:117: MissingStepKeyWarning: No metric key Step.METRIC_TARGET in \n",
       "output, using Step.TARGET instead\n",
       "If your model is used for classification, you likely want to output a Step.METRIC_TARGET key as well.\n",
       "  \n",
       "</pre>\n"
      ],
      "text/plain": [
       "/home/edge/dev/py/pyro/pyroml/metrics/tracker.py:117: MissingStepKeyWarning: No metric key Step.METRIC_TARGET in \n",
       "output, using Step.TARGET instead\n",
       "If your model is used for classification, you likely want to output a Step.METRIC_TARGET key as well.\n",
       "  \n"
      ]
     },
     "metadata": {},
     "output_type": "display_data"
    },
    {
     "data": {
      "text/html": [
       "<pre style=\"white-space:pre;overflow-x:auto;line-height:normal;font-family:Menlo,'DejaVu Sans Mono',consolas,'Courier New',monospace\">/home/edge/dev/py/pyro/pyroml/metrics/tracker.py:117: MissingStepKeyWarning: No metric key Step.METRIC_TARGET in \n",
       "output, using Step.TARGET instead\n",
       "If your model is used for classification, you likely want to output a Step.METRIC_TARGET key as well.\n",
       "  \n",
       "</pre>\n"
      ],
      "text/plain": [
       "/home/edge/dev/py/pyro/pyroml/metrics/tracker.py:117: MissingStepKeyWarning: No metric key Step.METRIC_TARGET in \n",
       "output, using Step.TARGET instead\n",
       "If your model is used for classification, you likely want to output a Step.METRIC_TARGET key as well.\n",
       "  \n"
      ]
     },
     "metadata": {},
     "output_type": "display_data"
    },
    {
     "data": {
      "text/html": [
       "<pre style=\"white-space:pre;overflow-x:auto;line-height:normal;font-family:Menlo,'DejaVu Sans Mono',consolas,'Courier New',monospace\">/home/edge/dev/py/pyro/pyroml/metrics/tracker.py:117: MissingStepKeyWarning: No metric key Step.METRIC_TARGET in \n",
       "output, using Step.TARGET instead\n",
       "If your model is used for classification, you likely want to output a Step.METRIC_TARGET key as well.\n",
       "  \n",
       "</pre>\n"
      ],
      "text/plain": [
       "/home/edge/dev/py/pyro/pyroml/metrics/tracker.py:117: MissingStepKeyWarning: No metric key Step.METRIC_TARGET in \n",
       "output, using Step.TARGET instead\n",
       "If your model is used for classification, you likely want to output a Step.METRIC_TARGET key as well.\n",
       "  \n"
      ]
     },
     "metadata": {},
     "output_type": "display_data"
    },
    {
     "data": {
      "text/html": [
       "<pre style=\"white-space:pre;overflow-x:auto;line-height:normal;font-family:Menlo,'DejaVu Sans Mono',consolas,'Courier New',monospace\">/home/edge/anaconda3/lib/python3.12/multiprocessing/popen_fork.py:66: DeprecationWarning: This process (pid=61888) \n",
       "is multi-threaded, use of fork() may lead to deadlocks in the child.\n",
       "  self.pid = os.fork()\n",
       "</pre>\n"
      ],
      "text/plain": [
       "/home/edge/anaconda3/lib/python3.12/multiprocessing/popen_fork.py:66: DeprecationWarning: This process (pid=61888) \n",
       "is multi-threaded, use of fork() may lead to deadlocks in the child.\n",
       "  self.pid = os.fork()\n"
      ]
     },
     "metadata": {},
     "output_type": "display_data"
    },
    {
     "data": {
      "text/html": [
       "<pre style=\"white-space:pre;overflow-x:auto;line-height:normal;font-family:Menlo,'DejaVu Sans Mono',consolas,'Courier New',monospace\">/home/edge/dev/py/pyro/pyroml/metrics/tracker.py:117: MissingStepKeyWarning: No metric key Step.METRIC_TARGET in \n",
       "output, using Step.TARGET instead\n",
       "If your model is used for classification, you likely want to output a Step.METRIC_TARGET key as well.\n",
       "  \n",
       "</pre>\n"
      ],
      "text/plain": [
       "/home/edge/dev/py/pyro/pyroml/metrics/tracker.py:117: MissingStepKeyWarning: No metric key Step.METRIC_TARGET in \n",
       "output, using Step.TARGET instead\n",
       "If your model is used for classification, you likely want to output a Step.METRIC_TARGET key as well.\n",
       "  \n"
      ]
     },
     "metadata": {},
     "output_type": "display_data"
    },
    {
     "data": {
      "text/html": [
       "<pre style=\"white-space:pre;overflow-x:auto;line-height:normal;font-family:Menlo,'DejaVu Sans Mono',consolas,'Courier New',monospace\">/home/edge/dev/py/pyro/pyroml/metrics/tracker.py:117: MissingStepKeyWarning: No metric key Step.METRIC_TARGET in \n",
       "output, using Step.TARGET instead\n",
       "If your model is used for classification, you likely want to output a Step.METRIC_TARGET key as well.\n",
       "  \n",
       "</pre>\n"
      ],
      "text/plain": [
       "/home/edge/dev/py/pyro/pyroml/metrics/tracker.py:117: MissingStepKeyWarning: No metric key Step.METRIC_TARGET in \n",
       "output, using Step.TARGET instead\n",
       "If your model is used for classification, you likely want to output a Step.METRIC_TARGET key as well.\n",
       "  \n"
      ]
     },
     "metadata": {},
     "output_type": "display_data"
    },
    {
     "data": {
      "text/html": [
       "<pre style=\"white-space:pre;overflow-x:auto;line-height:normal;font-family:Menlo,'DejaVu Sans Mono',consolas,'Courier New',monospace\">/home/edge/dev/py/pyro/pyroml/metrics/tracker.py:117: MissingStepKeyWarning: No metric key Step.METRIC_TARGET in \n",
       "output, using Step.TARGET instead\n",
       "If your model is used for classification, you likely want to output a Step.METRIC_TARGET key as well.\n",
       "  \n",
       "</pre>\n"
      ],
      "text/plain": [
       "/home/edge/dev/py/pyro/pyroml/metrics/tracker.py:117: MissingStepKeyWarning: No metric key Step.METRIC_TARGET in \n",
       "output, using Step.TARGET instead\n",
       "If your model is used for classification, you likely want to output a Step.METRIC_TARGET key as well.\n",
       "  \n"
      ]
     },
     "metadata": {},
     "output_type": "display_data"
    },
    {
     "data": {
      "text/html": [
       "<pre style=\"white-space:pre;overflow-x:auto;line-height:normal;font-family:Menlo,'DejaVu Sans Mono',consolas,'Courier New',monospace\">/home/edge/dev/py/pyro/pyroml/metrics/tracker.py:117: MissingStepKeyWarning: No metric key Step.METRIC_TARGET in \n",
       "output, using Step.TARGET instead\n",
       "If your model is used for classification, you likely want to output a Step.METRIC_TARGET key as well.\n",
       "  \n",
       "</pre>\n"
      ],
      "text/plain": [
       "/home/edge/dev/py/pyro/pyroml/metrics/tracker.py:117: MissingStepKeyWarning: No metric key Step.METRIC_TARGET in \n",
       "output, using Step.TARGET instead\n",
       "If your model is used for classification, you likely want to output a Step.METRIC_TARGET key as well.\n",
       "  \n"
      ]
     },
     "metadata": {},
     "output_type": "display_data"
    },
    {
     "data": {
      "text/html": [
       "<pre style=\"white-space:pre;overflow-x:auto;line-height:normal;font-family:Menlo,'DejaVu Sans Mono',consolas,'Courier New',monospace\">/home/edge/dev/py/pyro/pyroml/metrics/tracker.py:117: MissingStepKeyWarning: No metric key Step.METRIC_TARGET in \n",
       "output, using Step.TARGET instead\n",
       "If your model is used for classification, you likely want to output a Step.METRIC_TARGET key as well.\n",
       "  \n",
       "</pre>\n"
      ],
      "text/plain": [
       "/home/edge/dev/py/pyro/pyroml/metrics/tracker.py:117: MissingStepKeyWarning: No metric key Step.METRIC_TARGET in \n",
       "output, using Step.TARGET instead\n",
       "If your model is used for classification, you likely want to output a Step.METRIC_TARGET key as well.\n",
       "  \n"
      ]
     },
     "metadata": {},
     "output_type": "display_data"
    },
    {
     "data": {
      "text/html": [
       "<pre style=\"white-space:pre;overflow-x:auto;line-height:normal;font-family:Menlo,'DejaVu Sans Mono',consolas,'Courier New',monospace\">/home/edge/dev/py/pyro/pyroml/metrics/tracker.py:117: MissingStepKeyWarning: No metric key Step.METRIC_TARGET in \n",
       "output, using Step.TARGET instead\n",
       "If your model is used for classification, you likely want to output a Step.METRIC_TARGET key as well.\n",
       "  \n",
       "</pre>\n"
      ],
      "text/plain": [
       "/home/edge/dev/py/pyro/pyroml/metrics/tracker.py:117: MissingStepKeyWarning: No metric key Step.METRIC_TARGET in \n",
       "output, using Step.TARGET instead\n",
       "If your model is used for classification, you likely want to output a Step.METRIC_TARGET key as well.\n",
       "  \n"
      ]
     },
     "metadata": {},
     "output_type": "display_data"
    },
    {
     "data": {
      "text/html": [
       "<pre style=\"white-space:pre;overflow-x:auto;line-height:normal;font-family:Menlo,'DejaVu Sans Mono',consolas,'Courier New',monospace\"></pre>\n"
      ],
      "text/plain": []
     },
     "metadata": {},
     "output_type": "display_data"
    },
    {
     "data": {
      "text/html": [
       "<div>\n",
       "<style scoped>\n",
       "    .dataframe tbody tr th:only-of-type {\n",
       "        vertical-align: middle;\n",
       "    }\n",
       "\n",
       "    .dataframe tbody tr th {\n",
       "        vertical-align: top;\n",
       "    }\n",
       "\n",
       "    .dataframe thead th {\n",
       "        text-align: right;\n",
       "    }\n",
       "</style>\n",
       "<table border=\"1\" class=\"dataframe\">\n",
       "  <thead>\n",
       "    <tr style=\"text-align: right;\">\n",
       "      <th></th>\n",
       "      <th>stage</th>\n",
       "      <th>epoch</th>\n",
       "      <th>step</th>\n",
       "      <th>acc</th>\n",
       "      <th>pre</th>\n",
       "      <th>rec</th>\n",
       "      <th>loss</th>\n",
       "      <th>epoch_acc</th>\n",
       "      <th>epoch_pre</th>\n",
       "      <th>epoch_rec</th>\n",
       "      <th>epoch_loss</th>\n",
       "    </tr>\n",
       "  </thead>\n",
       "  <tbody>\n",
       "    <tr>\n",
       "      <th>0</th>\n",
       "      <td>validation</td>\n",
       "      <td>0</td>\n",
       "      <td>0</td>\n",
       "      <td>0.933333</td>\n",
       "      <td>0.933333</td>\n",
       "      <td>0.933333</td>\n",
       "      <td>0.170462</td>\n",
       "      <td>NaN</td>\n",
       "      <td>NaN</td>\n",
       "      <td>NaN</td>\n",
       "      <td>NaN</td>\n",
       "    </tr>\n",
       "    <tr>\n",
       "      <th>1</th>\n",
       "      <td>validation</td>\n",
       "      <td>0</td>\n",
       "      <td>1</td>\n",
       "      <td>NaN</td>\n",
       "      <td>NaN</td>\n",
       "      <td>NaN</td>\n",
       "      <td>NaN</td>\n",
       "      <td>0.933333</td>\n",
       "      <td>0.933333</td>\n",
       "      <td>0.933333</td>\n",
       "      <td>0.170462</td>\n",
       "    </tr>\n",
       "    <tr>\n",
       "      <th>2</th>\n",
       "      <td>train</td>\n",
       "      <td>0</td>\n",
       "      <td>0</td>\n",
       "      <td>1.000000</td>\n",
       "      <td>1.000000</td>\n",
       "      <td>1.000000</td>\n",
       "      <td>0.038585</td>\n",
       "      <td>NaN</td>\n",
       "      <td>NaN</td>\n",
       "      <td>NaN</td>\n",
       "      <td>NaN</td>\n",
       "    </tr>\n",
       "    <tr>\n",
       "      <th>3</th>\n",
       "      <td>train</td>\n",
       "      <td>0</td>\n",
       "      <td>1</td>\n",
       "      <td>1.000000</td>\n",
       "      <td>1.000000</td>\n",
       "      <td>1.000000</td>\n",
       "      <td>0.044439</td>\n",
       "      <td>NaN</td>\n",
       "      <td>NaN</td>\n",
       "      <td>NaN</td>\n",
       "      <td>NaN</td>\n",
       "    </tr>\n",
       "    <tr>\n",
       "      <th>4</th>\n",
       "      <td>train</td>\n",
       "      <td>0</td>\n",
       "      <td>2</td>\n",
       "      <td>1.000000</td>\n",
       "      <td>1.000000</td>\n",
       "      <td>1.000000</td>\n",
       "      <td>0.056452</td>\n",
       "      <td>NaN</td>\n",
       "      <td>NaN</td>\n",
       "      <td>NaN</td>\n",
       "      <td>NaN</td>\n",
       "    </tr>\n",
       "    <tr>\n",
       "      <th>...</th>\n",
       "      <td>...</td>\n",
       "      <td>...</td>\n",
       "      <td>...</td>\n",
       "      <td>...</td>\n",
       "      <td>...</td>\n",
       "      <td>...</td>\n",
       "      <td>...</td>\n",
       "      <td>...</td>\n",
       "      <td>...</td>\n",
       "      <td>...</td>\n",
       "      <td>...</td>\n",
       "    </tr>\n",
       "    <tr>\n",
       "      <th>91</th>\n",
       "      <td>train</td>\n",
       "      <td>11</td>\n",
       "      <td>68</td>\n",
       "      <td>0.979167</td>\n",
       "      <td>0.979167</td>\n",
       "      <td>0.979167</td>\n",
       "      <td>0.034630</td>\n",
       "      <td>NaN</td>\n",
       "      <td>NaN</td>\n",
       "      <td>NaN</td>\n",
       "      <td>NaN</td>\n",
       "    </tr>\n",
       "    <tr>\n",
       "      <th>92</th>\n",
       "      <td>train</td>\n",
       "      <td>11</td>\n",
       "      <td>69</td>\n",
       "      <td>0.968750</td>\n",
       "      <td>0.968750</td>\n",
       "      <td>0.968750</td>\n",
       "      <td>0.063120</td>\n",
       "      <td>NaN</td>\n",
       "      <td>NaN</td>\n",
       "      <td>NaN</td>\n",
       "      <td>NaN</td>\n",
       "    </tr>\n",
       "    <tr>\n",
       "      <th>93</th>\n",
       "      <td>train</td>\n",
       "      <td>11</td>\n",
       "      <td>70</td>\n",
       "      <td>0.975000</td>\n",
       "      <td>0.975000</td>\n",
       "      <td>0.975000</td>\n",
       "      <td>0.058233</td>\n",
       "      <td>NaN</td>\n",
       "      <td>NaN</td>\n",
       "      <td>NaN</td>\n",
       "      <td>NaN</td>\n",
       "    </tr>\n",
       "    <tr>\n",
       "      <th>94</th>\n",
       "      <td>train</td>\n",
       "      <td>11</td>\n",
       "      <td>71</td>\n",
       "      <td>0.966667</td>\n",
       "      <td>0.966667</td>\n",
       "      <td>0.966667</td>\n",
       "      <td>0.074027</td>\n",
       "      <td>NaN</td>\n",
       "      <td>NaN</td>\n",
       "      <td>NaN</td>\n",
       "      <td>NaN</td>\n",
       "    </tr>\n",
       "    <tr>\n",
       "      <th>95</th>\n",
       "      <td>train</td>\n",
       "      <td>11</td>\n",
       "      <td>72</td>\n",
       "      <td>NaN</td>\n",
       "      <td>NaN</td>\n",
       "      <td>NaN</td>\n",
       "      <td>NaN</td>\n",
       "      <td>0.966667</td>\n",
       "      <td>0.966667</td>\n",
       "      <td>0.966667</td>\n",
       "      <td>0.074027</td>\n",
       "    </tr>\n",
       "  </tbody>\n",
       "</table>\n",
       "<p>96 rows × 11 columns</p>\n",
       "</div>"
      ],
      "text/plain": [
       "         stage epoch step       acc       pre       rec      loss  epoch_acc  \\\n",
       "0   validation     0    0  0.933333  0.933333  0.933333  0.170462        NaN   \n",
       "1   validation     0    1       NaN       NaN       NaN       NaN   0.933333   \n",
       "2        train     0    0  1.000000  1.000000  1.000000  0.038585        NaN   \n",
       "3        train     0    1  1.000000  1.000000  1.000000  0.044439        NaN   \n",
       "4        train     0    2  1.000000  1.000000  1.000000  0.056452        NaN   \n",
       "..         ...   ...  ...       ...       ...       ...       ...        ...   \n",
       "91       train    11   68  0.979167  0.979167  0.979167  0.034630        NaN   \n",
       "92       train    11   69  0.968750  0.968750  0.968750  0.063120        NaN   \n",
       "93       train    11   70  0.975000  0.975000  0.975000  0.058233        NaN   \n",
       "94       train    11   71  0.966667  0.966667  0.966667  0.074027        NaN   \n",
       "95       train    11   72       NaN       NaN       NaN       NaN   0.966667   \n",
       "\n",
       "    epoch_pre  epoch_rec  epoch_loss  \n",
       "0         NaN        NaN         NaN  \n",
       "1    0.933333   0.933333    0.170462  \n",
       "2         NaN        NaN         NaN  \n",
       "3         NaN        NaN         NaN  \n",
       "4         NaN        NaN         NaN  \n",
       "..        ...        ...         ...  \n",
       "91        NaN        NaN         NaN  \n",
       "92        NaN        NaN         NaN  \n",
       "93        NaN        NaN         NaN  \n",
       "94        NaN        NaN         NaN  \n",
       "95   0.966667   0.966667    0.074027  \n",
       "\n",
       "[96 rows x 11 columns]"
      ]
     },
     "execution_count": 284,
     "metadata": {},
     "output_type": "execute_result"
    }
   ],
   "source": [
    "tr_tracker = trainer.fit(model, tr_ds, ev_ds)\n",
    "tr_tracker.records"
   ]
  },
  {
   "cell_type": "code",
   "execution_count": 277,
   "metadata": {},
   "outputs": [
    {
     "data": {
      "image/png": "[encoded data removed]",
      "text/plain": [
       "<Figure size 640x480 with 1 Axes>"
      ]
     },
     "metadata": {},
     "output_type": "display_data"
    }
   ],
   "source": [
    "tr_tracker.plot(stage=p.Stage.VAL, epoch=True, kind='bar')"
   ]
  },
  {
   "cell_type": "code",
   "execution_count": 279,
   "metadata": {},
   "outputs": [
    {
     "data": {
      "text/html": [
       "<pre style=\"white-space:pre;overflow-x:auto;line-height:normal;font-family:Menlo,'DejaVu Sans Mono',consolas,'Courier New',monospace\">/home/edge/dev/py/pyro/pyroml/metrics/tracker.py:110: UserWarning: No metric in output, using Step.TARGET instead\n",
       "If your model is used for classification, you likely want to output a Step.METRIC_TARGET key as well.\n",
       "  warnings.warn(msg)\n",
       "</pre>\n"
      ],
      "text/plain": [
       "/home/edge/dev/py/pyro/pyroml/metrics/tracker.py:110: UserWarning: No metric in output, using Step.TARGET instead\n",
       "If your model is used for classification, you likely want to output a Step.METRIC_TARGET key as well.\n",
       "  warnings.warn(msg)\n"
      ]
     },
     "metadata": {},
     "output_type": "display_data"
    },
    {
     "data": {
      "text/html": [
       "<pre style=\"white-space:pre;overflow-x:auto;line-height:normal;font-family:Menlo,'DejaVu Sans Mono',consolas,'Courier New',monospace\">/home/edge/dev/py/pyro/pyroml/metrics/tracker.py:110: UserWarning: No metric in output, using Step.TARGET instead\n",
       "If your model is used for classification, you likely want to output a Step.METRIC_TARGET key as well.\n",
       "  warnings.warn(msg)\n",
       "</pre>\n"
      ],
      "text/plain": [
       "/home/edge/dev/py/pyro/pyroml/metrics/tracker.py:110: UserWarning: No metric in output, using Step.TARGET instead\n",
       "If your model is used for classification, you likely want to output a Step.METRIC_TARGET key as well.\n",
       "  warnings.warn(msg)\n"
      ]
     },
     "metadata": {},
     "output_type": "display_data"
    },
    {
     "data": {
      "text/html": [
       "<pre style=\"white-space:pre;overflow-x:auto;line-height:normal;font-family:Menlo,'DejaVu Sans Mono',consolas,'Courier New',monospace\">/home/edge/dev/py/pyro/pyroml/metrics/tracker.py:110: UserWarning: No metric in output, using Step.TARGET instead\n",
       "If your model is used for classification, you likely want to output a Step.METRIC_TARGET key as well.\n",
       "  warnings.warn(msg)\n",
       "</pre>\n"
      ],
      "text/plain": [
       "/home/edge/dev/py/pyro/pyroml/metrics/tracker.py:110: UserWarning: No metric in output, using Step.TARGET instead\n",
       "If your model is used for classification, you likely want to output a Step.METRIC_TARGET key as well.\n",
       "  warnings.warn(msg)\n"
      ]
     },
     "metadata": {},
     "output_type": "display_data"
    },
    {
     "name": "stderr",
     "output_type": "stream",
     "text": [
      "/home/edge/dev/py/pyro/.venv/lib/python3.12/site-packages/torchmetrics/utilities/prints.py:43: FutureWarning: The default value for `maximize` will be changed from `True` to `None` in v1.7.0 of TorchMetrics,will automatically infer the value based on the `higher_is_better` attribute of the metric (if such attribute exists) or raise an error if it does not. If you are explicitly setting the `maximize` argument to either `True` or `False` already, you can ignore this warning.\n",
      "  warnings.warn(*args, **kwargs)  # noqa: B028\n"
     ]
    },
    {
     "data": {
      "text/html": [
       "<pre style=\"white-space:pre;overflow-x:auto;line-height:normal;font-family:Menlo,'DejaVu Sans Mono',consolas,'Courier New',monospace\"></pre>\n"
      ],
      "text/plain": []
     },
     "metadata": {},
     "output_type": "display_data"
    },
    {
     "data": {
      "image/png": "[encoded data removed]",
      "text/plain": [
       "<Figure size 640x480 with 1 Axes>"
      ]
     },
     "metadata": {},
     "output_type": "display_data"
    }
   ],
   "source": [
    "te_metrics = trainer.test(model, te_ds)\n",
    "te_metrics.plot(epoch=True, kind=\"bar\")"
   ]
  }
 ],
 "metadata": {
  "kernelspec": {
   "display_name": ".venv",
   "language": "python",
   "name": "python3"
  },
  "language_info": {
   "codemirror_mode": {
    "name": "ipython",
    "version": 3
   },
   "file_extension": ".py",
   "mimetype": "text/x-python",
   "name": "python",
   "nbconvert_exporter": "python",
   "pygments_lexer": "ipython3",
   "version": "3.12.4"
  }
 },
 "nbformat": 4,
 "nbformat_minor": 2
}
