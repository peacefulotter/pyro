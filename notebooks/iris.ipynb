{
 "cells": [
  {
   "cell_type": "code",
   "execution_count": 1,
   "metadata": {},
   "outputs": [],
   "source": [
    "%load_ext autoreload\n",
    "%autoreload 2"
   ]
  },
  {
   "cell_type": "code",
   "execution_count": 6,
   "metadata": {},
   "outputs": [],
   "source": [
    "import torch\n",
    "import numpy as np\n",
    "import torch.nn as nn\n",
    "\n",
    "import sys\n",
    "sys.path.append('../')\n",
    "\n",
    "\n",
    "import pyroml as p\n",
    "from pyroml.template.iris import IrisNet, IrisDataset, load_dataset"
   ]
  },
  {
   "cell_type": "code",
   "execution_count": 7,
   "metadata": {},
   "outputs": [],
   "source": [
    "SEED = 42\n",
    "p.seed_everything(SEED)"
   ]
  },
  {
   "cell_type": "code",
   "execution_count": 8,
   "metadata": {},
   "outputs": [
    {
     "name": "stderr",
     "output_type": "stream",
     "text": [
      "Map: 100%|██████████| 150/150 [00:00<00:00, 6432.72 examples/s]\n"
     ]
    }
   ],
   "source": [
    "ds = load_dataset()\n",
    "ds = ds.shuffle(seed=SEED)\n",
    "tr_ds, ev_ds, te_ds = np.split(ds, [int(0.6 * len(ds)), int(0.7 * len(ds))])\n",
    "\n",
    "tr_ds = IrisDataset(tr_ds)\n",
    "ev_ds = IrisDataset(ev_ds)\n",
    "te_ds = IrisDataset(te_ds)"
   ]
  },
  {
   "cell_type": "code",
   "execution_count": 9,
   "metadata": {},
   "outputs": [],
   "source": [
    "class ScheduledIrisNet(IrisNet):\n",
    "    def configure_optimizers(self, loop: \"p.Loop\"):\n",
    "        tr = self.trainer\n",
    "        self.optimizer = torch.optim.AdamW(self.parameters(), lr=tr.lr)\n",
    "        self.scheduler = torch.optim.lr_scheduler.OneCycleLR(\n",
    "            self.optimizer,\n",
    "            max_lr=tr.lr,\n",
    "            total_steps=loop.total_steps,\n",
    "            steps_per_epoch=loop.steps_per_epochs,\n",
    "            epochs=tr.max_epochs,\n",
    "            anneal_strategy=\"cos\",\n",
    "            cycle_momentum=False,\n",
    "            div_factor=1e2,\n",
    "            final_div_factor=0.05,\n",
    "        )\n",
    "\n",
    "    def forward(self, x):\n",
    "        return super().forward(x)"
   ]
  },
  {
   "cell_type": "code",
   "execution_count": 10,
   "metadata": {},
   "outputs": [
    {
     "data": {
      "text/plain": [
       "ScheduledIrisNet(\n",
       "  (module): Sequential(\n",
       "    (0): Linear(in_features=4, out_features=16, bias=True)\n",
       "    (1): ReLU()\n",
       "    (2): Linear(in_features=16, out_features=16, bias=True)\n",
       "    (3): ReLU()\n",
       "    (4): Linear(in_features=16, out_features=3, bias=True)\n",
       "    (5): Softmax(dim=1)\n",
       "  )\n",
       ")"
      ]
     },
     "execution_count": 10,
     "metadata": {},
     "output_type": "execute_result"
    }
   ],
   "source": [
    "model = ScheduledIrisNet()\n",
    "model"
   ]
  },
  {
   "cell_type": "code",
   "execution_count": 11,
   "metadata": {},
   "outputs": [],
   "source": [
    "import logging\n",
    "trainer = p.Trainer(\n",
    "    compile=True,\n",
    "    loss=nn.CrossEntropyLoss(),\n",
    "    max_epochs=12,\n",
    "    batch_size=16,\n",
    "    lr=0.005,\n",
    "    evaluate=True,\n",
    "    evaluate_every=12,\n",
    "    wandb=False,\n",
    "    dtype=torch.bfloat16,\n",
    "    log_level=logging.INFO,\n",
    ")"
   ]
  },
  {
   "cell_type": "code",
   "execution_count": 14,
   "metadata": {},
   "outputs": [
    {
     "name": "stderr",
     "output_type": "stream",
     "text": [
      "/home/edge/dev/py/pyro/.venv/lib/python3.12/site-packages/torchmetrics/utilities/prints.py:43: FutureWarning: The default value for `maximize` will be changed from `True` to `None` in v1.7.0 of TorchMetrics,will automatically infer the value based on the `higher_is_better` attribute of the metric (if such attribute exists) or raise an error if it does not. If you are explicitly setting the `maximize` argument to either `True` or `False` already, you can ignore this warning.\n",
      "  warnings.warn(*args, **kwargs)  # noqa: B028\n"
     ]
    },
    {
     "data": {
      "text/html": [
       "<pre style=\"white-space:pre;overflow-x:auto;line-height:normal;font-family:Menlo,'DejaVu Sans Mono',consolas,'Courier New',monospace\">/home/edge/dev/py/pyro/.venv/lib/python3.12/site-packages/torchmetrics/utilities/prints.py:43: FutureWarning: The \n",
       "default value for `maximize` will be changed from `True` to `None` in v1.7.0 of TorchMetrics,will automatically \n",
       "infer the value based on the `higher_is_better` attribute of the metric (if such attribute exists) or raise an \n",
       "error if it does not. If you are explicitly setting the `maximize` argument to either `True` or `False` already, \n",
       "you can ignore this warning.\n",
       "  warnings.warn(*args, **kwargs)  # noqa: B028\n",
       "</pre>\n"
      ],
      "text/plain": [
       "/home/edge/dev/py/pyro/.venv/lib/python3.12/site-packages/torchmetrics/utilities/prints.py:43: FutureWarning: The \n",
       "default value for `maximize` will be changed from `True` to `None` in v1.7.0 of TorchMetrics,will automatically \n",
       "infer the value based on the `higher_is_better` attribute of the metric (if such attribute exists) or raise an \n",
       "error if it does not. If you are explicitly setting the `maximize` argument to either `True` or `False` already, \n",
       "you can ignore this warning.\n",
       "  warnings.warn(*args, **kwargs)  # noqa: B028\n"
      ]
     },
     "metadata": {},
     "output_type": "display_data"
    },
    {
     "data": {
      "text/html": [
       "<pre style=\"white-space:pre;overflow-x:auto;line-height:normal;font-family:Menlo,'DejaVu Sans Mono',consolas,'Courier New',monospace\">/home/edge/dev/py/pyro/.venv/lib/python3.12/site-packages/torchmetrics/utilities/prints.py:43: FutureWarning: The \n",
       "default value for `maximize` will be changed from `True` to `None` in v1.7.0 of TorchMetrics,will automatically \n",
       "infer the value based on the `higher_is_better` attribute of the metric (if such attribute exists) or raise an \n",
       "error if it does not. If you are explicitly setting the `maximize` argument to either `True` or `False` already, \n",
       "you can ignore this warning.\n",
       "  warnings.warn(*args, **kwargs)  # noqa: B028\n",
       "</pre>\n"
      ],
      "text/plain": [
       "/home/edge/dev/py/pyro/.venv/lib/python3.12/site-packages/torchmetrics/utilities/prints.py:43: FutureWarning: The \n",
       "default value for `maximize` will be changed from `True` to `None` in v1.7.0 of TorchMetrics,will automatically \n",
       "infer the value based on the `higher_is_better` attribute of the metric (if such attribute exists) or raise an \n",
       "error if it does not. If you are explicitly setting the `maximize` argument to either `True` or `False` already, \n",
       "you can ignore this warning.\n",
       "  warnings.warn(*args, **kwargs)  # noqa: B028\n"
      ]
     },
     "metadata": {},
     "output_type": "display_data"
    },
    {
     "data": {
      "text/html": [
       "<pre style=\"white-space:pre;overflow-x:auto;line-height:normal;font-family:Menlo,'DejaVu Sans Mono',consolas,'Courier New',monospace\">/home/edge/dev/py/pyro/.venv/lib/python3.12/site-packages/torchmetrics/utilities/prints.py:43: FutureWarning: The \n",
       "default value for `maximize` will be changed from `True` to `None` in v1.7.0 of TorchMetrics,will automatically \n",
       "infer the value based on the `higher_is_better` attribute of the metric (if such attribute exists) or raise an \n",
       "error if it does not. If you are explicitly setting the `maximize` argument to either `True` or `False` already, \n",
       "you can ignore this warning.\n",
       "  warnings.warn(*args, **kwargs)  # noqa: B028\n",
       "</pre>\n"
      ],
      "text/plain": [
       "/home/edge/dev/py/pyro/.venv/lib/python3.12/site-packages/torchmetrics/utilities/prints.py:43: FutureWarning: The \n",
       "default value for `maximize` will be changed from `True` to `None` in v1.7.0 of TorchMetrics,will automatically \n",
       "infer the value based on the `higher_is_better` attribute of the metric (if such attribute exists) or raise an \n",
       "error if it does not. If you are explicitly setting the `maximize` argument to either `True` or `False` already, \n",
       "you can ignore this warning.\n",
       "  warnings.warn(*args, **kwargs)  # noqa: B028\n"
      ]
     },
     "metadata": {},
     "output_type": "display_data"
    },
    {
     "data": {
      "text/html": [
       "<pre style=\"white-space:pre;overflow-x:auto;line-height:normal;font-family:Menlo,'DejaVu Sans Mono',consolas,'Courier New',monospace\">/home/edge/dev/py/pyro/.venv/lib/python3.12/site-packages/torchmetrics/utilities/prints.py:43: FutureWarning: The \n",
       "default value for `maximize` will be changed from `True` to `None` in v1.7.0 of TorchMetrics,will automatically \n",
       "infer the value based on the `higher_is_better` attribute of the metric (if such attribute exists) or raise an \n",
       "error if it does not. If you are explicitly setting the `maximize` argument to either `True` or `False` already, \n",
       "you can ignore this warning.\n",
       "  warnings.warn(*args, **kwargs)  # noqa: B028\n",
       "</pre>\n"
      ],
      "text/plain": [
       "/home/edge/dev/py/pyro/.venv/lib/python3.12/site-packages/torchmetrics/utilities/prints.py:43: FutureWarning: The \n",
       "default value for `maximize` will be changed from `True` to `None` in v1.7.0 of TorchMetrics,will automatically \n",
       "infer the value based on the `higher_is_better` attribute of the metric (if such attribute exists) or raise an \n",
       "error if it does not. If you are explicitly setting the `maximize` argument to either `True` or `False` already, \n",
       "you can ignore this warning.\n",
       "  warnings.warn(*args, **kwargs)  # noqa: B028\n"
      ]
     },
     "metadata": {},
     "output_type": "display_data"
    },
    {
     "data": {
      "text/html": [
       "<pre style=\"white-space:pre;overflow-x:auto;line-height:normal;font-family:Menlo,'DejaVu Sans Mono',consolas,'Courier New',monospace\">/home/edge/dev/py/pyro/.venv/lib/python3.12/site-packages/torchmetrics/utilities/prints.py:43: FutureWarning: The \n",
       "default value for `maximize` will be changed from `True` to `None` in v1.7.0 of TorchMetrics,will automatically \n",
       "infer the value based on the `higher_is_better` attribute of the metric (if such attribute exists) or raise an \n",
       "error if it does not. If you are explicitly setting the `maximize` argument to either `True` or `False` already, \n",
       "you can ignore this warning.\n",
       "  warnings.warn(*args, **kwargs)  # noqa: B028\n",
       "</pre>\n"
      ],
      "text/plain": [
       "/home/edge/dev/py/pyro/.venv/lib/python3.12/site-packages/torchmetrics/utilities/prints.py:43: FutureWarning: The \n",
       "default value for `maximize` will be changed from `True` to `None` in v1.7.0 of TorchMetrics,will automatically \n",
       "infer the value based on the `higher_is_better` attribute of the metric (if such attribute exists) or raise an \n",
       "error if it does not. If you are explicitly setting the `maximize` argument to either `True` or `False` already, \n",
       "you can ignore this warning.\n",
       "  warnings.warn(*args, **kwargs)  # noqa: B028\n"
      ]
     },
     "metadata": {},
     "output_type": "display_data"
    },
    {
     "data": {
      "text/html": [
       "<pre style=\"white-space:pre;overflow-x:auto;line-height:normal;font-family:Menlo,'DejaVu Sans Mono',consolas,'Courier New',monospace\">/home/edge/dev/py/pyro/.venv/lib/python3.12/site-packages/torchmetrics/utilities/prints.py:43: FutureWarning: The \n",
       "default value for `maximize` will be changed from `True` to `None` in v1.7.0 of TorchMetrics,will automatically \n",
       "infer the value based on the `higher_is_better` attribute of the metric (if such attribute exists) or raise an \n",
       "error if it does not. If you are explicitly setting the `maximize` argument to either `True` or `False` already, \n",
       "you can ignore this warning.\n",
       "  warnings.warn(*args, **kwargs)  # noqa: B028\n",
       "</pre>\n"
      ],
      "text/plain": [
       "/home/edge/dev/py/pyro/.venv/lib/python3.12/site-packages/torchmetrics/utilities/prints.py:43: FutureWarning: The \n",
       "default value for `maximize` will be changed from `True` to `None` in v1.7.0 of TorchMetrics,will automatically \n",
       "infer the value based on the `higher_is_better` attribute of the metric (if such attribute exists) or raise an \n",
       "error if it does not. If you are explicitly setting the `maximize` argument to either `True` or `False` already, \n",
       "you can ignore this warning.\n",
       "  warnings.warn(*args, **kwargs)  # noqa: B028\n"
      ]
     },
     "metadata": {},
     "output_type": "display_data"
    },
    {
     "data": {
      "text/html": [
       "<pre style=\"white-space:pre;overflow-x:auto;line-height:normal;font-family:Menlo,'DejaVu Sans Mono',consolas,'Courier New',monospace\"></pre>\n"
      ],
      "text/plain": []
     },
     "metadata": {},
     "output_type": "display_data"
    },
    {
     "data": {
      "text/html": [
       "<div>\n",
       "<style scoped>\n",
       "    .dataframe tbody tr th:only-of-type {\n",
       "        vertical-align: middle;\n",
       "    }\n",
       "\n",
       "    .dataframe tbody tr th {\n",
       "        vertical-align: top;\n",
       "    }\n",
       "\n",
       "    .dataframe thead th {\n",
       "        text-align: right;\n",
       "    }\n",
       "</style>\n",
       "<table border=\"1\" class=\"dataframe\">\n",
       "  <thead>\n",
       "    <tr style=\"text-align: right;\">\n",
       "      <th></th>\n",
       "      <th>stage</th>\n",
       "      <th>epoch</th>\n",
       "      <th>step</th>\n",
       "      <th>acc</th>\n",
       "      <th>pre</th>\n",
       "      <th>rec</th>\n",
       "      <th>loss</th>\n",
       "      <th>epoch_acc</th>\n",
       "      <th>epoch_pre</th>\n",
       "      <th>epoch_rec</th>\n",
       "      <th>epoch_loss</th>\n",
       "    </tr>\n",
       "  </thead>\n",
       "  <tbody>\n",
       "    <tr>\n",
       "      <th>0</th>\n",
       "      <td>validation</td>\n",
       "      <td>0</td>\n",
       "      <td>0</td>\n",
       "      <td>0.0</td>\n",
       "      <td>0.0</td>\n",
       "      <td>0.0</td>\n",
       "      <td>0.825113</td>\n",
       "      <td>NaN</td>\n",
       "      <td>NaN</td>\n",
       "      <td>NaN</td>\n",
       "      <td>NaN</td>\n",
       "    </tr>\n",
       "    <tr>\n",
       "      <th>1</th>\n",
       "      <td>validation</td>\n",
       "      <td>0</td>\n",
       "      <td>1</td>\n",
       "      <td>NaN</td>\n",
       "      <td>NaN</td>\n",
       "      <td>NaN</td>\n",
       "      <td>NaN</td>\n",
       "      <td>0.0</td>\n",
       "      <td>0.0</td>\n",
       "      <td>0.0</td>\n",
       "      <td>0.825113</td>\n",
       "    </tr>\n",
       "    <tr>\n",
       "      <th>2</th>\n",
       "      <td>train</td>\n",
       "      <td>0</td>\n",
       "      <td>0</td>\n",
       "      <td>0.0</td>\n",
       "      <td>0.0</td>\n",
       "      <td>0.0</td>\n",
       "      <td>0.809259</td>\n",
       "      <td>NaN</td>\n",
       "      <td>NaN</td>\n",
       "      <td>NaN</td>\n",
       "      <td>NaN</td>\n",
       "    </tr>\n",
       "    <tr>\n",
       "      <th>3</th>\n",
       "      <td>train</td>\n",
       "      <td>0</td>\n",
       "      <td>1</td>\n",
       "      <td>0.0</td>\n",
       "      <td>0.0</td>\n",
       "      <td>0.0</td>\n",
       "      <td>0.826319</td>\n",
       "      <td>NaN</td>\n",
       "      <td>NaN</td>\n",
       "      <td>NaN</td>\n",
       "      <td>NaN</td>\n",
       "    </tr>\n",
       "    <tr>\n",
       "      <th>4</th>\n",
       "      <td>train</td>\n",
       "      <td>0</td>\n",
       "      <td>2</td>\n",
       "      <td>0.0</td>\n",
       "      <td>0.0</td>\n",
       "      <td>0.0</td>\n",
       "      <td>0.842331</td>\n",
       "      <td>NaN</td>\n",
       "      <td>NaN</td>\n",
       "      <td>NaN</td>\n",
       "      <td>NaN</td>\n",
       "    </tr>\n",
       "    <tr>\n",
       "      <th>...</th>\n",
       "      <td>...</td>\n",
       "      <td>...</td>\n",
       "      <td>...</td>\n",
       "      <td>...</td>\n",
       "      <td>...</td>\n",
       "      <td>...</td>\n",
       "      <td>...</td>\n",
       "      <td>...</td>\n",
       "      <td>...</td>\n",
       "      <td>...</td>\n",
       "      <td>...</td>\n",
       "    </tr>\n",
       "    <tr>\n",
       "      <th>91</th>\n",
       "      <td>train</td>\n",
       "      <td>11</td>\n",
       "      <td>68</td>\n",
       "      <td>0.0</td>\n",
       "      <td>0.0</td>\n",
       "      <td>0.0</td>\n",
       "      <td>0.700314</td>\n",
       "      <td>NaN</td>\n",
       "      <td>NaN</td>\n",
       "      <td>NaN</td>\n",
       "      <td>NaN</td>\n",
       "    </tr>\n",
       "    <tr>\n",
       "      <th>92</th>\n",
       "      <td>train</td>\n",
       "      <td>11</td>\n",
       "      <td>69</td>\n",
       "      <td>0.0</td>\n",
       "      <td>0.0</td>\n",
       "      <td>0.0</td>\n",
       "      <td>0.720699</td>\n",
       "      <td>NaN</td>\n",
       "      <td>NaN</td>\n",
       "      <td>NaN</td>\n",
       "      <td>NaN</td>\n",
       "    </tr>\n",
       "    <tr>\n",
       "      <th>93</th>\n",
       "      <td>train</td>\n",
       "      <td>11</td>\n",
       "      <td>70</td>\n",
       "      <td>0.0</td>\n",
       "      <td>0.0</td>\n",
       "      <td>0.0</td>\n",
       "      <td>0.652219</td>\n",
       "      <td>NaN</td>\n",
       "      <td>NaN</td>\n",
       "      <td>NaN</td>\n",
       "      <td>NaN</td>\n",
       "    </tr>\n",
       "    <tr>\n",
       "      <th>94</th>\n",
       "      <td>train</td>\n",
       "      <td>11</td>\n",
       "      <td>71</td>\n",
       "      <td>0.0</td>\n",
       "      <td>0.0</td>\n",
       "      <td>0.0</td>\n",
       "      <td>0.698305</td>\n",
       "      <td>NaN</td>\n",
       "      <td>NaN</td>\n",
       "      <td>NaN</td>\n",
       "      <td>NaN</td>\n",
       "    </tr>\n",
       "    <tr>\n",
       "      <th>95</th>\n",
       "      <td>train</td>\n",
       "      <td>11</td>\n",
       "      <td>72</td>\n",
       "      <td>NaN</td>\n",
       "      <td>NaN</td>\n",
       "      <td>NaN</td>\n",
       "      <td>NaN</td>\n",
       "      <td>0.0</td>\n",
       "      <td>0.0</td>\n",
       "      <td>0.0</td>\n",
       "      <td>0.688979</td>\n",
       "    </tr>\n",
       "  </tbody>\n",
       "</table>\n",
       "<p>96 rows × 11 columns</p>\n",
       "</div>"
      ],
      "text/plain": [
       "         stage epoch step  acc  pre  rec      loss  epoch_acc  epoch_pre  \\\n",
       "0   validation     0    0  0.0  0.0  0.0  0.825113        NaN        NaN   \n",
       "1   validation     0    1  NaN  NaN  NaN       NaN        0.0        0.0   \n",
       "2        train     0    0  0.0  0.0  0.0  0.809259        NaN        NaN   \n",
       "3        train     0    1  0.0  0.0  0.0  0.826319        NaN        NaN   \n",
       "4        train     0    2  0.0  0.0  0.0  0.842331        NaN        NaN   \n",
       "..         ...   ...  ...  ...  ...  ...       ...        ...        ...   \n",
       "91       train    11   68  0.0  0.0  0.0  0.700314        NaN        NaN   \n",
       "92       train    11   69  0.0  0.0  0.0  0.720699        NaN        NaN   \n",
       "93       train    11   70  0.0  0.0  0.0  0.652219        NaN        NaN   \n",
       "94       train    11   71  0.0  0.0  0.0  0.698305        NaN        NaN   \n",
       "95       train    11   72  NaN  NaN  NaN       NaN        0.0        0.0   \n",
       "\n",
       "    epoch_rec  epoch_loss  \n",
       "0         NaN         NaN  \n",
       "1         0.0    0.825113  \n",
       "2         NaN         NaN  \n",
       "3         NaN         NaN  \n",
       "4         NaN         NaN  \n",
       "..        ...         ...  \n",
       "91        NaN         NaN  \n",
       "92        NaN         NaN  \n",
       "93        NaN         NaN  \n",
       "94        NaN         NaN  \n",
       "95        0.0    0.688979  \n",
       "\n",
       "[96 rows x 11 columns]"
      ]
     },
     "execution_count": 14,
     "metadata": {},
     "output_type": "execute_result"
    }
   ],
   "source": [
    "tr_tracker = trainer.fit(model, tr_ds, ev_ds)\n",
    "tr_tracker.records"
   ]
  },
  {
   "cell_type": "code",
   "execution_count": 15,
   "metadata": {},
   "outputs": [
    {
     "ename": "NotImplementedError",
     "evalue": "This method is not implemented yet",
     "output_type": "error",
     "traceback": [
      "\u001b[0;31m---------------------------------------------------------------------------\u001b[0m",
      "\u001b[0;31mNotImplementedError\u001b[0m                       Traceback (most recent call last)",
      "Cell \u001b[0;32mIn[15], line 1\u001b[0m\n\u001b[0;32m----> 1\u001b[0m \u001b[43mtr_tracker\u001b[49m\u001b[38;5;241;43m.\u001b[39;49m\u001b[43mplot\u001b[49m\u001b[43m(\u001b[49m\u001b[43m)\u001b[49m\n",
      "File \u001b[0;32m~/dev/py/pyro/pyroml/metrics/tracker.py:192\u001b[0m, in \u001b[0;36mMetricTracker.plot\u001b[0;34m(self, axs)\u001b[0m\n\u001b[1;32m    191\u001b[0m \u001b[38;5;28;01mdef\u001b[39;00m\u001b[38;5;250m \u001b[39m\u001b[38;5;21mplot\u001b[39m(\u001b[38;5;28mself\u001b[39m, axs\u001b[38;5;241m=\u001b[39m\u001b[38;5;28;01mNone\u001b[39;00m):\n\u001b[0;32m--> 192\u001b[0m     \u001b[38;5;28;01mraise\u001b[39;00m \u001b[38;5;167;01mNotImplementedError\u001b[39;00m(\u001b[38;5;124m\"\u001b[39m\u001b[38;5;124mThis method is not implemented yet\u001b[39m\u001b[38;5;124m\"\u001b[39m)\n\u001b[1;32m    193\u001b[0m     ncols \u001b[38;5;241m=\u001b[39m \u001b[38;5;28mlen\u001b[39m(\u001b[38;5;28mself\u001b[39m\u001b[38;5;241m.\u001b[39mmetrics)\n\u001b[1;32m    194\u001b[0m     _, axs \u001b[38;5;241m=\u001b[39m (\n\u001b[1;32m    195\u001b[0m         (_, axs)\n\u001b[1;32m    196\u001b[0m         \u001b[38;5;28;01mif\u001b[39;00m axs \u001b[38;5;129;01mis\u001b[39;00m \u001b[38;5;129;01mnot\u001b[39;00m \u001b[38;5;28;01mNone\u001b[39;00m\n\u001b[1;32m    197\u001b[0m         \u001b[38;5;28;01melse\u001b[39;00m plt\u001b[38;5;241m.\u001b[39msubplots(nrows\u001b[38;5;241m=\u001b[39m\u001b[38;5;241m1\u001b[39m, ncols\u001b[38;5;241m=\u001b[39mncols, figsize\u001b[38;5;241m=\u001b[39m(ncols \u001b[38;5;241m*\u001b[39m \u001b[38;5;241m5\u001b[39m, \u001b[38;5;241m5\u001b[39m))\n\u001b[1;32m    198\u001b[0m     )\n",
      "\u001b[0;31mNotImplementedError\u001b[0m: This method is not implemented yet"
     ]
    }
   ],
   "source": [
    "tr_tracker.plot()"
   ]
  },
  {
   "cell_type": "code",
   "execution_count": 16,
   "metadata": {},
   "outputs": [
    {
     "name": "stderr",
     "output_type": "stream",
     "text": [
      "/home/edge/dev/py/pyro/.venv/lib/python3.12/site-packages/torchmetrics/utilities/prints.py:43: FutureWarning: The default value for `maximize` will be changed from `True` to `None` in v1.7.0 of TorchMetrics,will automatically infer the value based on the `higher_is_better` attribute of the metric (if such attribute exists) or raise an error if it does not. If you are explicitly setting the `maximize` argument to either `True` or `False` already, you can ignore this warning.\n",
      "  warnings.warn(*args, **kwargs)  # noqa: B028\n"
     ]
    },
    {
     "data": {
      "text/html": [
       "<pre style=\"white-space:pre;overflow-x:auto;line-height:normal;font-family:Menlo,'DejaVu Sans Mono',consolas,'Courier New',monospace\"></pre>\n"
      ],
      "text/plain": []
     },
     "metadata": {},
     "output_type": "display_data"
    },
    {
     "data": {
      "text/html": [
       "<div>\n",
       "<style scoped>\n",
       "    .dataframe tbody tr th:only-of-type {\n",
       "        vertical-align: middle;\n",
       "    }\n",
       "\n",
       "    .dataframe tbody tr th {\n",
       "        vertical-align: top;\n",
       "    }\n",
       "\n",
       "    .dataframe thead th {\n",
       "        text-align: right;\n",
       "    }\n",
       "</style>\n",
       "<table border=\"1\" class=\"dataframe\">\n",
       "  <thead>\n",
       "    <tr style=\"text-align: right;\">\n",
       "      <th></th>\n",
       "      <th>stage</th>\n",
       "      <th>epoch</th>\n",
       "      <th>step</th>\n",
       "      <th>acc</th>\n",
       "      <th>pre</th>\n",
       "      <th>rec</th>\n",
       "      <th>loss</th>\n",
       "      <th>epoch_acc</th>\n",
       "      <th>epoch_pre</th>\n",
       "      <th>epoch_rec</th>\n",
       "      <th>epoch_loss</th>\n",
       "    </tr>\n",
       "  </thead>\n",
       "  <tbody>\n",
       "    <tr>\n",
       "      <th>0</th>\n",
       "      <td>test</td>\n",
       "      <td>0</td>\n",
       "      <td>0</td>\n",
       "      <td>0.0</td>\n",
       "      <td>0.0</td>\n",
       "      <td>0.0</td>\n",
       "      <td>0.670523</td>\n",
       "      <td>NaN</td>\n",
       "      <td>NaN</td>\n",
       "      <td>NaN</td>\n",
       "      <td>NaN</td>\n",
       "    </tr>\n",
       "    <tr>\n",
       "      <th>1</th>\n",
       "      <td>test</td>\n",
       "      <td>0</td>\n",
       "      <td>1</td>\n",
       "      <td>0.0</td>\n",
       "      <td>0.0</td>\n",
       "      <td>0.0</td>\n",
       "      <td>0.669614</td>\n",
       "      <td>NaN</td>\n",
       "      <td>NaN</td>\n",
       "      <td>NaN</td>\n",
       "      <td>NaN</td>\n",
       "    </tr>\n",
       "    <tr>\n",
       "      <th>2</th>\n",
       "      <td>test</td>\n",
       "      <td>0</td>\n",
       "      <td>2</td>\n",
       "      <td>0.0</td>\n",
       "      <td>0.0</td>\n",
       "      <td>0.0</td>\n",
       "      <td>0.655956</td>\n",
       "      <td>NaN</td>\n",
       "      <td>NaN</td>\n",
       "      <td>NaN</td>\n",
       "      <td>NaN</td>\n",
       "    </tr>\n",
       "    <tr>\n",
       "      <th>3</th>\n",
       "      <td>test</td>\n",
       "      <td>0</td>\n",
       "      <td>3</td>\n",
       "      <td>NaN</td>\n",
       "      <td>NaN</td>\n",
       "      <td>NaN</td>\n",
       "      <td>NaN</td>\n",
       "      <td>0.0</td>\n",
       "      <td>0.0</td>\n",
       "      <td>0.0</td>\n",
       "      <td>0.665364</td>\n",
       "    </tr>\n",
       "  </tbody>\n",
       "</table>\n",
       "</div>"
      ],
      "text/plain": [
       "  stage  epoch  step  acc  pre  rec      loss  epoch_acc  epoch_pre  \\\n",
       "0  test      0     0  0.0  0.0  0.0  0.670523        NaN        NaN   \n",
       "1  test      0     1  0.0  0.0  0.0  0.669614        NaN        NaN   \n",
       "2  test      0     2  0.0  0.0  0.0  0.655956        NaN        NaN   \n",
       "3  test      0     3  NaN  NaN  NaN       NaN        0.0        0.0   \n",
       "\n",
       "   epoch_rec  epoch_loss  \n",
       "0        NaN         NaN  \n",
       "1        NaN         NaN  \n",
       "2        NaN         NaN  \n",
       "3        0.0    0.665364  "
      ]
     },
     "execution_count": 16,
     "metadata": {},
     "output_type": "execute_result"
    }
   ],
   "source": [
    "te_metrics = trainer.test(model, te_ds)\n",
    "te_metrics.records"
   ]
  }
 ],
 "metadata": {
  "kernelspec": {
   "display_name": ".venv",
   "language": "python",
   "name": "python3"
  },
  "language_info": {
   "codemirror_mode": {
    "name": "ipython",
    "version": 3
   },
   "file_extension": ".py",
   "mimetype": "text/x-python",
   "name": "python",
   "nbconvert_exporter": "python",
   "pygments_lexer": "ipython3",
   "version": "3.12.4"
  }
 },
 "nbformat": 4,
 "nbformat_minor": 2
}
