{
 "cells": [
  {
   "cell_type": "code",
   "execution_count": 29,
   "metadata": {},
   "outputs": [
    {
     "name": "stdout",
     "output_type": "stream",
     "text": [
      "The autoreload extension is already loaded. To reload it, use:\n",
      "  %reload_ext autoreload\n"
     ]
    }
   ],
   "source": [
    "%load_ext autoreload\n",
    "%autoreload 2"
   ]
  },
  {
   "cell_type": "code",
   "execution_count": 30,
   "metadata": {},
   "outputs": [],
   "source": [
    "import torch\n",
    "import numpy as np\n",
    "import torch.nn as nn\n",
    "\n",
    "\n",
    "import pyroml as p\n",
    "from pyroml.template.iris import IrisNet, IrisDataset, load_dataset"
   ]
  },
  {
   "cell_type": "code",
   "execution_count": 31,
   "metadata": {},
   "outputs": [],
   "source": [
    "SEED = 42\n",
    "p.seed_everything(SEED)"
   ]
  },
  {
   "cell_type": "code",
   "execution_count": 32,
   "metadata": {},
   "outputs": [],
   "source": [
    "ds = load_dataset()\n",
    "ds = ds.shuffle(seed=SEED)\n",
    "tr_ds, ev_ds, te_ds = np.split(ds, [int(0.6 * len(ds)), int(0.7 * len(ds))])\n",
    "\n",
    "tr_ds = IrisDataset(tr_ds)\n",
    "ev_ds = IrisDataset(ev_ds)\n",
    "te_ds = IrisDataset(te_ds)"
   ]
  },
  {
   "cell_type": "code",
   "execution_count": 33,
   "metadata": {},
   "outputs": [],
   "source": [
    "class ScheduledIrisNet(IrisNet):\n",
    "    def configure_optimizers(self, loop: \"p.Loop\"):\n",
    "        tr = self.trainer\n",
    "        self.optimizer = torch.optim.AdamW(self.parameters(), lr=tr.lr)\n",
    "        self.scheduler = torch.optim.lr_scheduler.OneCycleLR(\n",
    "            self.optimizer,\n",
    "            max_lr=tr.lr,\n",
    "            total_steps=loop.total_steps,\n",
    "            steps_per_epoch=loop.steps_per_epochs,\n",
    "            epochs=tr.max_epochs,\n",
    "            anneal_strategy=\"cos\",\n",
    "            cycle_momentum=False,\n",
    "            div_factor=1e2,\n",
    "            final_div_factor=0.05,\n",
    "        )\n",
    "\n",
    "    def forward(self, x):\n",
    "        return super().forward(x)"
   ]
  },
  {
   "cell_type": "code",
   "execution_count": 34,
   "metadata": {},
   "outputs": [
    {
     "data": {
      "text/plain": [
       "ScheduledIrisNet(\n",
       "  (module): Sequential(\n",
       "    (0): Linear(in_features=4, out_features=16, bias=True)\n",
       "    (1): ReLU()\n",
       "    (2): Linear(in_features=16, out_features=16, bias=True)\n",
       "    (3): ReLU()\n",
       "    (4): Linear(in_features=16, out_features=3, bias=True)\n",
       "    (5): Softmax(dim=1)\n",
       "  )\n",
       ")"
      ]
     },
     "execution_count": 34,
     "metadata": {},
     "output_type": "execute_result"
    }
   ],
   "source": [
    "model = ScheduledIrisNet()\n",
    "model"
   ]
  },
  {
   "cell_type": "code",
   "execution_count": 35,
   "metadata": {},
   "outputs": [],
   "source": [
    "import logging\n",
    "trainer = p.Trainer(\n",
    "    compile=True,\n",
    "    loss=nn.CrossEntropyLoss(),\n",
    "    max_epochs=12,\n",
    "    batch_size=16,\n",
    "    lr=0.005,\n",
    "    evaluate=True,\n",
    "    evaluate_every=12,\n",
    "    wandb=False,\n",
    "    dtype=torch.bfloat16,\n",
    "    log_level=logging.INFO,\n",
    ")"
   ]
  },
  {
   "cell_type": "code",
   "execution_count": 36,
   "metadata": {},
   "outputs": [
    {
     "data": {
      "text/html": [
       "<pre style=\"white-space:pre;overflow-x:auto;line-height:normal;font-family:Menlo,'DejaVu Sans Mono',consolas,'Courier New',monospace\"></pre>\n"
      ],
      "text/plain": []
     },
     "metadata": {},
     "output_type": "display_data"
    },
    {
     "data": {
      "text/html": [
       "<pre style=\"white-space:pre;overflow-x:auto;line-height:normal;font-family:Menlo,'DejaVu Sans Mono',consolas,'Courier New',monospace\">\n",
       "</pre>\n"
      ],
      "text/plain": [
       "\n"
      ]
     },
     "metadata": {},
     "output_type": "display_data"
    },
    {
     "ename": "TypeError",
     "evalue": "super(type, obj): obj must be an instance or subtype of type",
     "output_type": "error",
     "traceback": [
      "\u001b[0;31m---------------------------------------------------------------------------\u001b[0m",
      "\u001b[0;31mTypeError\u001b[0m                                 Traceback (most recent call last)",
      "Cell \u001b[0;32mIn[36], line 1\u001b[0m\n\u001b[0;32m----> 1\u001b[0m tr_tracker \u001b[38;5;241m=\u001b[39m \u001b[43mtrainer\u001b[49m\u001b[38;5;241;43m.\u001b[39;49m\u001b[43mfit\u001b[49m\u001b[43m(\u001b[49m\u001b[43mmodel\u001b[49m\u001b[43m,\u001b[49m\u001b[43m \u001b[49m\u001b[43mtr_ds\u001b[49m\u001b[43m,\u001b[49m\u001b[43m \u001b[49m\u001b[43mev_ds\u001b[49m\u001b[43m)\u001b[49m\n\u001b[1;32m      2\u001b[0m tr_tracker\u001b[38;5;241m.\u001b[39mrecords\n",
      "File \u001b[0;32m~/dev/py/pyro/pyroml/trainer.py:250\u001b[0m, in \u001b[0;36mTrainer.fit\u001b[0;34m(self, model, tr_dataset, ev_dataset)\u001b[0m\n\u001b[1;32m    247\u001b[0m \u001b[38;5;28;01mdef\u001b[39;00m \u001b[38;5;21mfit\u001b[39m(\n\u001b[1;32m    248\u001b[0m     \u001b[38;5;28mself\u001b[39m, model: \u001b[38;5;124m\"\u001b[39m\u001b[38;5;124mp.PyroModel\u001b[39m\u001b[38;5;124m\"\u001b[39m, tr_dataset: Dataset, ev_dataset: Dataset \u001b[38;5;241m=\u001b[39m \u001b[38;5;28;01mNone\u001b[39;00m\n\u001b[1;32m    249\u001b[0m ) \u001b[38;5;241m-\u001b[39m\u001b[38;5;241m>\u001b[39m \u001b[38;5;124m\"\u001b[39m\u001b[38;5;124mp.MetricTracker\u001b[39m\u001b[38;5;124m\"\u001b[39m:\n\u001b[0;32m--> 250\u001b[0m     \u001b[38;5;28;01mreturn\u001b[39;00m \u001b[38;5;28;43mself\u001b[39;49m\u001b[38;5;241;43m.\u001b[39;49m\u001b[43m_call_loop\u001b[49m\u001b[43m(\u001b[49m\u001b[43mTrainLoop\u001b[49m\u001b[43m,\u001b[49m\u001b[43m \u001b[49m\u001b[43mmodel\u001b[49m\u001b[43m,\u001b[49m\u001b[43m \u001b[49m\u001b[43mtr_dataset\u001b[49m\u001b[43m,\u001b[49m\u001b[43m \u001b[49m\u001b[43mev_dataset\u001b[49m\u001b[38;5;241;43m=\u001b[39;49m\u001b[43mev_dataset\u001b[49m\u001b[43m)\u001b[49m\n",
      "File \u001b[0;32m~/dev/py/pyro/pyroml/trainer.py:244\u001b[0m, in \u001b[0;36mTrainer._call_loop\u001b[0;34m(self, Loop, model, dataset, **kwargs)\u001b[0m\n\u001b[1;32m    242\u001b[0m \u001b[38;5;28mself\u001b[39m\u001b[38;5;241m.\u001b[39m_setup_model(model, dataset)\n\u001b[1;32m    243\u001b[0m loop: \u001b[38;5;124m\"\u001b[39m\u001b[38;5;124mp.Loop\u001b[39m\u001b[38;5;124m\"\u001b[39m \u001b[38;5;241m=\u001b[39m Loop(model\u001b[38;5;241m=\u001b[39mmodel, trainer\u001b[38;5;241m=\u001b[39m\u001b[38;5;28mself\u001b[39m, \u001b[38;5;241m*\u001b[39m\u001b[38;5;241m*\u001b[39mkwargs)\n\u001b[0;32m--> 244\u001b[0m \u001b[43mloop\u001b[49m\u001b[38;5;241;43m.\u001b[39;49m\u001b[43mrun\u001b[49m\u001b[43m(\u001b[49m\u001b[43mdataset\u001b[49m\u001b[43m)\u001b[49m\n\u001b[1;32m    245\u001b[0m \u001b[38;5;28;01mreturn\u001b[39;00m loop\u001b[38;5;241m.\u001b[39mtracker\n",
      "File \u001b[0;32m~/dev/py/pyro/pyroml/loop/base.py:151\u001b[0m, in \u001b[0;36mLoop.run\u001b[0;34m(self, dataset)\u001b[0m\n\u001b[1;32m    148\u001b[0m     \u001b[38;5;28mself\u001b[39m\u001b[38;5;241m.\u001b[39mstatus\u001b[38;5;241m.\u001b[39madvance_epoch()\n\u001b[1;32m    149\u001b[0m     \u001b[38;5;28mself\u001b[39m\u001b[38;5;241m.\u001b[39m_trigger_callback(\u001b[38;5;124m\"\u001b[39m\u001b[38;5;124mepoch_start\u001b[39m\u001b[38;5;124m\"\u001b[39m)\n\u001b[0;32m--> 151\u001b[0m \u001b[38;5;28;43mself\u001b[39;49m\u001b[38;5;241;43m.\u001b[39;49m\u001b[43mbefore_step\u001b[49m\u001b[43m(\u001b[49m\u001b[43m)\u001b[49m\n\u001b[1;32m    153\u001b[0m \u001b[38;5;66;03m# --- Iteration starts\u001b[39;00m\n\u001b[1;32m    154\u001b[0m \u001b[38;5;28mself\u001b[39m\u001b[38;5;241m.\u001b[39m_trigger_callback(\u001b[38;5;124m\"\u001b[39m\u001b[38;5;124miter_start\u001b[39m\u001b[38;5;124m\"\u001b[39m)\n",
      "File \u001b[0;32m~/dev/py/pyro/pyroml/loop/train.py:54\u001b[0m, in \u001b[0;36mTrainLoop.before_step\u001b[0;34m(self)\u001b[0m\n\u001b[1;32m     48\u001b[0m \u001b[38;5;28;01mif\u001b[39;00m (\n\u001b[1;32m     49\u001b[0m     \u001b[38;5;28mself\u001b[39m\u001b[38;5;241m.\u001b[39mtrainer\u001b[38;5;241m.\u001b[39mevaluate\n\u001b[1;32m     50\u001b[0m     \u001b[38;5;129;01mand\u001b[39;00m \u001b[38;5;28mself\u001b[39m\u001b[38;5;241m.\u001b[39mev_dataset \u001b[38;5;129;01mis\u001b[39;00m \u001b[38;5;129;01mnot\u001b[39;00m \u001b[38;5;28;01mNone\u001b[39;00m\n\u001b[1;32m     51\u001b[0m     \u001b[38;5;129;01mand\u001b[39;00m \u001b[38;5;28mself\u001b[39m\u001b[38;5;241m.\u001b[39mstatus\u001b[38;5;241m.\u001b[39mstep \u001b[38;5;241m%\u001b[39m \u001b[38;5;28mself\u001b[39m\u001b[38;5;241m.\u001b[39mtrainer\u001b[38;5;241m.\u001b[39mevaluate_every \u001b[38;5;241m==\u001b[39m \u001b[38;5;241m0\u001b[39m\n\u001b[1;32m     52\u001b[0m ):\n\u001b[1;32m     53\u001b[0m     eval_loop \u001b[38;5;241m=\u001b[39m EvalLoop(trainer\u001b[38;5;241m=\u001b[39m\u001b[38;5;28mself\u001b[39m\u001b[38;5;241m.\u001b[39mtrainer, model\u001b[38;5;241m=\u001b[39m\u001b[38;5;28mself\u001b[39m\u001b[38;5;241m.\u001b[39mmodel)\n\u001b[0;32m---> 54\u001b[0m     \u001b[43meval_loop\u001b[49m\u001b[38;5;241;43m.\u001b[39;49m\u001b[43mrun\u001b[49m\u001b[43m(\u001b[49m\u001b[38;5;28;43mself\u001b[39;49m\u001b[38;5;241;43m.\u001b[39;49m\u001b[43mev_dataset\u001b[49m\u001b[43m)\u001b[49m\n\u001b[1;32m     55\u001b[0m     \u001b[38;5;66;03m# Update training progress bar with eval metrics\u001b[39;00m\n\u001b[1;32m     56\u001b[0m     \u001b[38;5;28mself\u001b[39m\u001b[38;5;241m.\u001b[39mprogress\u001b[38;5;241m.\u001b[39mupdate_metrics(\n\u001b[1;32m     57\u001b[0m         \u001b[38;5;28mself\u001b[39m, eval_loop\u001b[38;5;241m.\u001b[39mprogress\u001b[38;5;241m.\u001b[39mmetrics, advance\u001b[38;5;241m=\u001b[39m\u001b[38;5;241m0\u001b[39m, stage\u001b[38;5;241m=\u001b[39mStage\u001b[38;5;241m.\u001b[39mTRAIN\n\u001b[1;32m     58\u001b[0m     )\n",
      "File \u001b[0;32m~/dev/py/pyro/pyroml/loop/eval.py:10\u001b[0m, in \u001b[0;36mEvalLoop.run\u001b[0;34m(self, dataset)\u001b[0m\n\u001b[1;32m      8\u001b[0m \u001b[38;5;28;01mdef\u001b[39;00m \u001b[38;5;21mrun\u001b[39m(\u001b[38;5;28mself\u001b[39m, dataset: Dataset):\n\u001b[1;32m      9\u001b[0m     \u001b[38;5;28mself\u001b[39m\u001b[38;5;241m.\u001b[39mmodel\u001b[38;5;241m.\u001b[39meval()\n\u001b[0;32m---> 10\u001b[0m     \u001b[38;5;28;43msuper\u001b[39;49m\u001b[43m(\u001b[49m\u001b[43m)\u001b[49m\u001b[38;5;241;43m.\u001b[39;49m\u001b[43mrun\u001b[49m\u001b[43m(\u001b[49m\u001b[43mdataset\u001b[49m\u001b[43m)\u001b[49m\n",
      "File \u001b[0;32m~/dev/py/pyro/pyroml/loop/base.py:162\u001b[0m, in \u001b[0;36mLoop.run\u001b[0;34m(self, dataset)\u001b[0m\n\u001b[1;32m    159\u001b[0m     \u001b[38;5;28mself\u001b[39m\u001b[38;5;241m.\u001b[39mafter_step(output)\n\u001b[1;32m    161\u001b[0m \u001b[38;5;66;03m# ----- Compute batch and epoch metrics\u001b[39;00m\n\u001b[0;32m--> 162\u001b[0m \u001b[38;5;28;43mself\u001b[39;49m\u001b[38;5;241;43m.\u001b[39;49m\u001b[43mtracker\u001b[49m\u001b[38;5;241;43m.\u001b[39;49m\u001b[43mstep\u001b[49m\u001b[43m(\u001b[49m\u001b[43moutput\u001b[49m\u001b[38;5;241;43m=\u001b[39;49m\u001b[43moutput\u001b[49m\u001b[43m)\u001b[49m\n\u001b[1;32m    164\u001b[0m \u001b[38;5;28mself\u001b[39m\u001b[38;5;241m.\u001b[39m_trigger_callback(\u001b[38;5;124m\"\u001b[39m\u001b[38;5;124miter_end\u001b[39m\u001b[38;5;124m\"\u001b[39m)\n\u001b[1;32m    165\u001b[0m \u001b[38;5;28mself\u001b[39m\u001b[38;5;241m.\u001b[39mstatus\u001b[38;5;241m.\u001b[39madvance_step()\n",
      "File \u001b[0;32m~/dev/py/pyro/pyroml/metrics/tracker.py:190\u001b[0m, in \u001b[0;36mMetricTracker.step\u001b[0;34m(self, output)\u001b[0m\n\u001b[1;32m    189\u001b[0m \u001b[38;5;28;01mdef\u001b[39;00m \u001b[38;5;21mstep\u001b[39m(\u001b[38;5;28mself\u001b[39m, output: \u001b[38;5;124m\"\u001b[39m\u001b[38;5;124mp.StepOutput\u001b[39m\u001b[38;5;124m\"\u001b[39m) \u001b[38;5;241m-\u001b[39m\u001b[38;5;241m>\u001b[39m \u001b[38;5;28mdict\u001b[39m[\u001b[38;5;28mstr\u001b[39m, \u001b[38;5;28mfloat\u001b[39m]:\n\u001b[0;32m--> 190\u001b[0m     \u001b[38;5;28;43mself\u001b[39;49m\u001b[38;5;241;43m.\u001b[39;49m\u001b[43m_register_step_metrics\u001b[49m\u001b[43m(\u001b[49m\u001b[43moutput\u001b[49m\u001b[43m)\u001b[49m\n",
      "File \u001b[0;32m~/dev/py/pyro/pyroml/metrics/tracker.py:115\u001b[0m, in \u001b[0;36mMetricTracker._register_step_metrics\u001b[0;34m(self, output)\u001b[0m\n\u001b[1;32m    113\u001b[0m \u001b[38;5;28;01mdef\u001b[39;00m \u001b[38;5;21m_register_step_metrics\u001b[39m(\u001b[38;5;28mself\u001b[39m, output: \u001b[38;5;124m\"\u001b[39m\u001b[38;5;124mp.StepOutput\u001b[39m\u001b[38;5;124m\"\u001b[39m) \u001b[38;5;241m-\u001b[39m\u001b[38;5;241m>\u001b[39m \u001b[38;5;28mdict\u001b[39m[\u001b[38;5;28mstr\u001b[39m, \u001b[38;5;28mfloat\u001b[39m]:\n\u001b[1;32m    114\u001b[0m     out_metric, out_target \u001b[38;5;241m=\u001b[39m \u001b[38;5;28mself\u001b[39m\u001b[38;5;241m.\u001b[39m_extract_output(output)\n\u001b[0;32m--> 115\u001b[0m     step_metrics \u001b[38;5;241m=\u001b[39m \u001b[38;5;28;43msuper\u001b[39;49m\u001b[43m(\u001b[49m\u001b[43m)\u001b[49m\u001b[38;5;241m.\u001b[39mforward(out_metric, out_target)\n\u001b[1;32m    116\u001b[0m     \u001b[38;5;28mself\u001b[39m\u001b[38;5;241m.\u001b[39m_register_metrics(step_metrics)\n\u001b[1;32m    117\u001b[0m     \u001b[38;5;28mself\u001b[39m\u001b[38;5;241m.\u001b[39mcurrent_step_metrics \u001b[38;5;241m=\u001b[39m step_metrics\n",
      "\u001b[0;31mTypeError\u001b[0m: super(type, obj): obj must be an instance or subtype of type"
     ]
    }
   ],
   "source": [
    "tr_tracker = trainer.fit(model, tr_ds, ev_ds)\n",
    "tr_tracker.records"
   ]
  },
  {
   "cell_type": "code",
   "execution_count": 55,
   "metadata": {},
   "outputs": [],
   "source": [
    "from torchmetrics import MetricTracker, MetricCollection\n",
    "from torchmetrics.classification import BinaryAccuracy, BinaryPrecision, BinaryRecall"
   ]
  },
  {
   "cell_type": "code",
   "execution_count": 59,
   "metadata": {},
   "outputs": [
    {
     "data": {
      "text/plain": [
       "({'acc': tensor(0.5000), 'pre': tensor(0.), 'rec': tensor(0.)},\n",
       " {'acc': tensor(0.5000), 'pre': tensor(0.), 'rec': tensor(0.)},\n",
       " None,\n",
       " {'acc': tensor(0.5000), 'pre': tensor(1.), 'rec': tensor(0.5000)},\n",
       " {'acc': tensor(0.5000), 'pre': tensor(1.), 'rec': tensor(0.5000)},\n",
       " {'acc': tensor([0.5000, 0.5000]),\n",
       "  'pre': tensor([0., 1.]),\n",
       "  'rec': tensor([0.0000, 0.5000])})"
      ]
     },
     "execution_count": 59,
     "metadata": {},
     "output_type": "execute_result"
    }
   ],
   "source": [
    "t = MetricTracker(\n",
    "    metric=MetricCollection({\"acc\": BinaryAccuracy(), \"pre\": BinaryPrecision(), \"rec\": BinaryRecall()}),\n",
    ")\n",
    "t.increment()\n",
    "t(torch.tensor([0, 0]), torch.tensor([0, 1])), t.compute(), t.increment(), t(\n",
    "    torch.tensor([0, 1]), torch.tensor([1, 1])\n",
    "), t.compute(), t.compute_all()"
   ]
  },
  {
   "cell_type": "code",
   "execution_count": 64,
   "metadata": {},
   "outputs": [
    {
     "data": {
      "image/png": "[encoded data removed]",
      "text/plain": [
       "<Figure size 640x480 with 2 Axes>"
      ]
     },
     "metadata": {},
     "output_type": "display_data"
    }
   ],
   "source": [
    "import matplotlib.pyplot as plt \n",
    "fig, axs = plt.subplots(2, 1)\n",
    "t.plot(ax=axs[0])\n",
    "plt.show()"
   ]
  },
  {
   "cell_type": "code",
   "execution_count": 23,
   "metadata": {},
   "outputs": [
    {
     "data": {
      "image/png": "[encoded data removed]",
      "text/plain": [
       "<Figure size 2000x500 with 4 Axes>"
      ]
     },
     "metadata": {},
     "output_type": "display_data"
    }
   ],
   "source": [
    "tr_tracker.plot()"
   ]
  },
  {
   "cell_type": "code",
   "execution_count": 11,
   "metadata": {},
   "outputs": [
    {
     "data": {
      "text/html": [
       "<pre style=\"white-space:pre;overflow-x:auto;line-height:normal;font-family:Menlo,'DejaVu Sans Mono',consolas,'Courier New',monospace\"></pre>\n"
      ],
      "text/plain": []
     },
     "metadata": {},
     "output_type": "display_data"
    },
    {
     "data": {
      "text/html": [
       "<pre style=\"white-space:pre;overflow-x:auto;line-height:normal;font-family:Menlo,'DejaVu Sans Mono',consolas,'Courier New',monospace\">\n",
       "</pre>\n"
      ],
      "text/plain": [
       "\n"
      ]
     },
     "metadata": {},
     "output_type": "display_data"
    },
    {
     "data": {
      "text/html": [
       "<div>\n",
       "<style scoped>\n",
       "    .dataframe tbody tr th:only-of-type {\n",
       "        vertical-align: middle;\n",
       "    }\n",
       "\n",
       "    .dataframe tbody tr th {\n",
       "        vertical-align: top;\n",
       "    }\n",
       "\n",
       "    .dataframe thead th {\n",
       "        text-align: right;\n",
       "    }\n",
       "</style>\n",
       "<table border=\"1\" class=\"dataframe\">\n",
       "  <thead>\n",
       "    <tr style=\"text-align: right;\">\n",
       "      <th></th>\n",
       "      <th>stage</th>\n",
       "      <th>epoch</th>\n",
       "      <th>step</th>\n",
       "      <th>pre</th>\n",
       "      <th>acc</th>\n",
       "      <th>rec</th>\n",
       "      <th>loss</th>\n",
       "      <th>epoch_pre</th>\n",
       "      <th>epoch_acc</th>\n",
       "      <th>epoch_rec</th>\n",
       "      <th>epoch_loss</th>\n",
       "    </tr>\n",
       "  </thead>\n",
       "  <tbody>\n",
       "    <tr>\n",
       "      <th>0</th>\n",
       "      <td>test</td>\n",
       "      <td>0</td>\n",
       "      <td>0</td>\n",
       "      <td>1.0</td>\n",
       "      <td>1.0</td>\n",
       "      <td>1.0</td>\n",
       "      <td>0.791728</td>\n",
       "      <td>NaN</td>\n",
       "      <td>NaN</td>\n",
       "      <td>NaN</td>\n",
       "      <td>NaN</td>\n",
       "    </tr>\n",
       "    <tr>\n",
       "      <th>1</th>\n",
       "      <td>test</td>\n",
       "      <td>0</td>\n",
       "      <td>1</td>\n",
       "      <td>1.0</td>\n",
       "      <td>1.0</td>\n",
       "      <td>1.0</td>\n",
       "      <td>0.780672</td>\n",
       "      <td>NaN</td>\n",
       "      <td>NaN</td>\n",
       "      <td>NaN</td>\n",
       "      <td>NaN</td>\n",
       "    </tr>\n",
       "    <tr>\n",
       "      <th>2</th>\n",
       "      <td>test</td>\n",
       "      <td>0</td>\n",
       "      <td>2</td>\n",
       "      <td>1.0</td>\n",
       "      <td>1.0</td>\n",
       "      <td>1.0</td>\n",
       "      <td>0.768307</td>\n",
       "      <td>NaN</td>\n",
       "      <td>NaN</td>\n",
       "      <td>NaN</td>\n",
       "      <td>NaN</td>\n",
       "    </tr>\n",
       "    <tr>\n",
       "      <th>3</th>\n",
       "      <td>test</td>\n",
       "      <td>0</td>\n",
       "      <td>3</td>\n",
       "      <td>NaN</td>\n",
       "      <td>NaN</td>\n",
       "      <td>NaN</td>\n",
       "      <td>NaN</td>\n",
       "      <td>1.0</td>\n",
       "      <td>1.0</td>\n",
       "      <td>1.0</td>\n",
       "      <td>0.780236</td>\n",
       "    </tr>\n",
       "  </tbody>\n",
       "</table>\n",
       "</div>"
      ],
      "text/plain": [
       "  stage  epoch  step  pre  acc  rec      loss  epoch_pre  epoch_acc  \\\n",
       "0  test      0     0  1.0  1.0  1.0  0.791728        NaN        NaN   \n",
       "1  test      0     1  1.0  1.0  1.0  0.780672        NaN        NaN   \n",
       "2  test      0     2  1.0  1.0  1.0  0.768307        NaN        NaN   \n",
       "3  test      0     3  NaN  NaN  NaN       NaN        1.0        1.0   \n",
       "\n",
       "   epoch_rec  epoch_loss  \n",
       "0        NaN         NaN  \n",
       "1        NaN         NaN  \n",
       "2        NaN         NaN  \n",
       "3        1.0    0.780236  "
      ]
     },
     "execution_count": 11,
     "metadata": {},
     "output_type": "execute_result"
    }
   ],
   "source": [
    "te_metrics = trainer.test(model, te_ds)\n",
    "te_metrics"
   ]
  },
  {
   "cell_type": "code",
   "execution_count": 147,
   "metadata": {},
   "outputs": [],
   "source": [
    "from torchmetrics.aggregation import MeanMetric\n",
    "from torchmetrics import Metric, MetricTracker as _MetricTracker, MetricCollection\n",
    "\n",
    "class LossMetric(Metric):\n",
    "    def __init__(self):\n",
    "        super().__init__()\n",
    "        self.loss_fn = torch.nn.CrossEntropyLoss()\n",
    "\n",
    "    def update(self, output):\n",
    "        pred, target = output[\"pred\"], output[\"target\"]\n",
    "        loss = self.loss_fn(pred, target)\n",
    "        print('REAL LOSS', loss)\n",
    "        super().update(loss)\n",
    "\n",
    "    def compute(self):\n",
    "        return super().compute()\n",
    "\n",
    "\n",
    "def output_update(self, output):\n",
    "    print(output)\n",
    "    pred, target = output[\"pred\"], output[\"target\"]\n",
    "    self.update(pred, target)\n",
    "\n",
    "def convert_to_output_metric(metric: Metric):\n",
    "    funcType = type(metric.__class__.update)\n",
    "    print(funcType, metric.__class__.update)\n",
    "    metric.update = funcType(output_update, metric, Metric)\n",
    "\n",
    "class MetricTracker(_MetricTracker):\n",
    "    def __init__(self):\n",
    "        collection = dict(\n",
    "            acc=BinaryAccuracy(),\n",
    "            pre=BinaryPrecision(),\n",
    "            rec=BinaryRecall(),\n",
    "        )\n",
    "\n",
    "        loss = None\n",
    "        if \"loss\" in collection:\n",
    "            loss = collection.pop(\"loss\")\n",
    "        else:\n",
    "            loss = LossMetric()\n",
    "\n",
    "        for metric in collection.values():\n",
    "            convert_to_output_metric(metric)\n",
    "\n",
    "        collection = MetricCollection(collection)\n",
    "        super().__init__(collection)\n",
    "        self.loss = loss"
   ]
  },
  {
   "cell_type": "code",
   "execution_count": 148,
   "metadata": {},
   "outputs": [
    {
     "name": "stdout",
     "output_type": "stream",
     "text": [
      "<class 'function'> <function BinaryStatScores.update at 0x7075c7071e10>\n"
     ]
    },
    {
     "ename": "TypeError",
     "evalue": "function() argument 'code' must be code, not function",
     "output_type": "error",
     "traceback": [
      "\u001b[0;31m---------------------------------------------------------------------------\u001b[0m",
      "\u001b[0;31mTypeError\u001b[0m                                 Traceback (most recent call last)",
      "Cell \u001b[0;32mIn[148], line 12\u001b[0m\n\u001b[1;32m      4\u001b[0m     preds \u001b[38;5;241m=\u001b[39m torch\u001b[38;5;241m.\u001b[39msoftmax(x, dim\u001b[38;5;241m=\u001b[39m\u001b[38;5;241m1\u001b[39m)\n\u001b[1;32m      5\u001b[0m     \u001b[38;5;28;01mreturn\u001b[39;00m { \n\u001b[1;32m      6\u001b[0m         \u001b[38;5;124m\"\u001b[39m\u001b[38;5;124mpred\u001b[39m\u001b[38;5;124m\"\u001b[39m: x, \n\u001b[1;32m      7\u001b[0m         \u001b[38;5;124m\"\u001b[39m\u001b[38;5;124mtarget\u001b[39m\u001b[38;5;124m\"\u001b[39m: y, \n\u001b[1;32m      8\u001b[0m         \u001b[38;5;124m\"\u001b[39m\u001b[38;5;124mmetrics_pred\u001b[39m\u001b[38;5;124m\"\u001b[39m: preds, \n\u001b[1;32m      9\u001b[0m         \u001b[38;5;124m\"\u001b[39m\u001b[38;5;124mmetrics_target\u001b[39m\u001b[38;5;124m\"\u001b[39m: y \n\u001b[1;32m     10\u001b[0m     }\n\u001b[0;32m---> 12\u001b[0m t \u001b[38;5;241m=\u001b[39m \u001b[43mMetricTracker\u001b[49m\u001b[43m(\u001b[49m\u001b[43m)\u001b[49m\n\u001b[1;32m     13\u001b[0m (\n\u001b[1;32m     14\u001b[0m     t\u001b[38;5;241m.\u001b[39mincrement(),\n\u001b[1;32m     15\u001b[0m     t(output()),\n\u001b[0;32m   (...)\u001b[0m\n\u001b[1;32m     23\u001b[0m     t\u001b[38;5;241m.\u001b[39mcompute_all(),\n\u001b[1;32m     24\u001b[0m )\n",
      "Cell \u001b[0;32mIn[147], line 44\u001b[0m, in \u001b[0;36mMetricTracker.__init__\u001b[0;34m(self)\u001b[0m\n\u001b[1;32m     41\u001b[0m     loss \u001b[38;5;241m=\u001b[39m LossMetric()\n\u001b[1;32m     43\u001b[0m \u001b[38;5;28;01mfor\u001b[39;00m metric \u001b[38;5;129;01min\u001b[39;00m collection\u001b[38;5;241m.\u001b[39mvalues():\n\u001b[0;32m---> 44\u001b[0m     \u001b[43mconvert_to_output_metric\u001b[49m\u001b[43m(\u001b[49m\u001b[43mmetric\u001b[49m\u001b[43m)\u001b[49m\n\u001b[1;32m     46\u001b[0m collection \u001b[38;5;241m=\u001b[39m MetricCollection(collection)\n\u001b[1;32m     47\u001b[0m \u001b[38;5;28msuper\u001b[39m()\u001b[38;5;241m.\u001b[39m\u001b[38;5;21m__init__\u001b[39m(collection)\n",
      "Cell \u001b[0;32mIn[147], line 27\u001b[0m, in \u001b[0;36mconvert_to_output_metric\u001b[0;34m(metric)\u001b[0m\n\u001b[1;32m     25\u001b[0m funcType \u001b[38;5;241m=\u001b[39m \u001b[38;5;28mtype\u001b[39m(metric\u001b[38;5;241m.\u001b[39m\u001b[38;5;18m__class__\u001b[39m\u001b[38;5;241m.\u001b[39mupdate)\n\u001b[1;32m     26\u001b[0m \u001b[38;5;28mprint\u001b[39m(funcType, metric\u001b[38;5;241m.\u001b[39m\u001b[38;5;18m__class__\u001b[39m\u001b[38;5;241m.\u001b[39mupdate)\n\u001b[0;32m---> 27\u001b[0m metric\u001b[38;5;241m.\u001b[39mupdate \u001b[38;5;241m=\u001b[39m \u001b[43mfuncType\u001b[49m\u001b[43m(\u001b[49m\u001b[43moutput_update\u001b[49m\u001b[43m,\u001b[49m\u001b[43m \u001b[49m\u001b[43mmetric\u001b[49m\u001b[43m,\u001b[49m\u001b[43m \u001b[49m\u001b[43mMetric\u001b[49m\u001b[43m)\u001b[49m\n",
      "\u001b[0;31mTypeError\u001b[0m: function() argument 'code' must be code, not function"
     ]
    }
   ],
   "source": [
    "def output():\n",
    "    x = torch.rand(2, 3)\n",
    "    y = torch.nn.functional.one_hot(torch.arange(0, 3) % 3)[:2].float()\n",
    "    preds = torch.softmax(x, dim=1)\n",
    "    return { \n",
    "        \"pred\": x, \n",
    "        \"target\": y, \n",
    "        \"metrics_pred\": preds, \n",
    "        \"metrics_target\": y \n",
    "    }\n",
    "\n",
    "t = MetricTracker()\n",
    "(\n",
    "    t.increment(),\n",
    "    t(output()),\n",
    "    t(output()),\n",
    "    t(output()),\n",
    "    t.compute_all(),\n",
    "    t.increment(),\n",
    "    t(output()),\n",
    "    t(output()),\n",
    "    t.compute(),\n",
    "    t.compute_all(),\n",
    ")"
   ]
  }
 ],
 "metadata": {
  "kernelspec": {
   "display_name": "venv",
   "language": "python",
   "name": "python3"
  },
  "language_info": {
   "codemirror_mode": {
    "name": "ipython",
    "version": 3
   },
   "file_extension": ".py",
   "mimetype": "text/x-python",
   "name": "python",
   "nbconvert_exporter": "python",
   "pygments_lexer": "ipython3",
   "version": "3.10.12"
  }
 },
 "nbformat": 4,
 "nbformat_minor": 2
}
